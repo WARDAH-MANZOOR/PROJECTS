{
  "cells": [
    {
      "cell_type": "code",
      "execution_count": 1,
      "metadata": {
        "colab": {
          "base_uri": "https://localhost:8080/"
        },
        "id": "_DKQp2vHTTq0",
        "outputId": "9eb3ee0c-97c5-4db6-b4f3-9a75ab0a1f87"
      },
      "outputs": [
        {
          "output_type": "stream",
          "name": "stdout",
          "text": [
            "   Unnamed: 0 trans_date_trans_time            cc_num  \\\n",
            "0           0   2019-01-01 00:00:18  2703186189652095   \n",
            "1           1   2019-01-01 00:00:44      630423337322   \n",
            "2           2   2019-01-01 00:00:51    38859492057661   \n",
            "3           3   2019-01-01 00:01:16  3534093764340240   \n",
            "4           4   2019-01-01 00:03:06   375534208663984   \n",
            "\n",
            "                             merchant       category     amt      first  \\\n",
            "0          fraud_Rippin, Kub and Mann       misc_net    4.97   Jennifer   \n",
            "1     fraud_Heller, Gutmann and Zieme    grocery_pos  107.23  Stephanie   \n",
            "2                fraud_Lind-Buckridge  entertainment  220.11     Edward   \n",
            "3  fraud_Kutch, Hermiston and Farrell  gas_transport   45.00     Jeremy   \n",
            "4                 fraud_Keeling-Crist       misc_pos   41.96      Tyler   \n",
            "\n",
            "      last gender                        street  ...      lat      long  \\\n",
            "0    Banks      F                561 Perry Cove  ...  36.0788  -81.1781   \n",
            "1     Gill      F  43039 Riley Greens Suite 393  ...  48.8878 -118.2105   \n",
            "2  Sanchez      M      594 White Dale Suite 530  ...  42.1808 -112.2620   \n",
            "3    White      M   9443 Cynthia Court Apt. 038  ...  46.2306 -112.1138   \n",
            "4   Garcia      M              408 Bradley Rest  ...  38.4207  -79.4629   \n",
            "\n",
            "   city_pop                                job         dob  \\\n",
            "0    3495.0          Psychologist, counselling  1988-03-09   \n",
            "1     149.0  Special educational needs teacher  1978-06-21   \n",
            "2    4154.0        Nature conservation officer  1962-01-19   \n",
            "3    1939.0                    Patent attorney  1967-01-12   \n",
            "4      99.0     Dance movement psychotherapist  1986-03-28   \n",
            "\n",
            "                          trans_num     unix_time  merch_lat  merch_long  \\\n",
            "0  0b242abb623afc578575680df30655b9  1.325376e+09  36.011293  -82.048315   \n",
            "1  1f76529f8574734946361c461b024d99  1.325376e+09  49.159047 -118.186462   \n",
            "2  a1a22d70485983eac12b5b88dad1cf95  1.325376e+09  43.150704 -112.154481   \n",
            "3  6b849c168bdad6f867558c3793159a81  1.325376e+09  47.034331 -112.561071   \n",
            "4  a41d7549acf90789359a9aa5346dcb46  1.325376e+09  38.674999  -78.632459   \n",
            "\n",
            "   is_fraud  \n",
            "0       0.0  \n",
            "1       0.0  \n",
            "2       0.0  \n",
            "3       0.0  \n",
            "4       0.0  \n",
            "\n",
            "[5 rows x 23 columns]\n"
          ]
        }
      ],
      "source": [
        "import pandas as pd\n",
        "from sklearn.model_selection import train_test_split\n",
        "from sklearn.preprocessing import StandardScaler\n",
        "from sklearn.ensemble import RandomForestClassifier\n",
        "from sklearn.metrics import accuracy_score, precision_score, recall_score, f1_score, confusion_matrix\n",
        "\n",
        "# Step 1: Load your data (assuming you have a dataset)\n",
        "data = pd.read_csv(\"fraud_data.csv\")\n",
        "print(data.head())\n",
        "\n",
        "# Step 2: Feature Engineering\n",
        "\n",
        "# Feature 1: Transaction Amount\n",
        "transaction_amount = data[\"amt\"]\n",
        "\n",
        "# Feature 2: Transaction Location (Assuming it's a categorical feature)\n",
        "transaction_location = pd.get_dummies(data[\"street\"])\n",
        "\n",
        "# Feature 3: User Behavior Patterns\n",
        "# You can calculate various statistics based on historical user behavior data.\n",
        "# For example, the number of previous transactions, average transaction amount, etc.\n",
        "user_behavior = data.groupby(\"cc_num\").agg({\n",
        "    \"trans_num\": \"count\",\n",
        "    \"amt\": \"mean\"\n",
        "}).reset_index()\n",
        "user_behavior.columns = [\"cc_num\", \"trans_num\", \"amt\"]\n",
        "\n",
        "# Merge all extracted features into a single dataframe\n",
        "features = pd.concat([transaction_amount, transaction_location, user_behavior], axis=1)\n",
        "\n",
        "# Step 3: Split data into features (X) and target variable (y)\n",
        "X = features\n",
        "y = data[\"is_fraud\"]\n",
        "\n"
      ]
    },
    {
      "cell_type": "code",
      "execution_count": 2,
      "metadata": {
        "colab": {
          "base_uri": "https://localhost:8080/"
        },
        "id": "ZonVxcgnVeE3",
        "outputId": "66c01e66-86a2-428c-bc42-9fe9219614b4"
      },
      "outputs": [
        {
          "output_type": "stream",
          "name": "stdout",
          "text": [
            "Missing values in X: amt                               0\n",
            "000 Jennifer Mills                0\n",
            "0005 Morrison Land                0\n",
            "00315 Ashley Valleys              0\n",
            "0043 Henry Plaza                  0\n",
            "                               ... \n",
            "997 Cameron Meadow Apt. 980       0\n",
            "99736 Rose Shoals Apt. 504        0\n",
            "cc_num                         6918\n",
            "trans_num                      6918\n",
            "amt                            6918\n",
            "Length: 901, dtype: int64\n",
            "Missing values in y: 1\n"
          ]
        }
      ],
      "source": [
        "import numpy as np\n",
        "\n",
        "# Check for missing values in X_train and X_test\n",
        "missing_values_X = np.isnan(X).sum()\n",
        "missing_values_y = np.isnan(y).sum()\n",
        "\n",
        "print(\"Missing values in X:\", missing_values_X)\n",
        "print(\"Missing values in y:\", missing_values_y)"
      ]
    },
    {
      "cell_type": "code",
      "execution_count": 3,
      "metadata": {
        "id": "h4Hd9F4oVyHT"
      },
      "outputs": [],
      "source": [
        "X = pd.DataFrame(X)\n",
        "y = pd.DataFrame(y)\n",
        "\n",
        "X.fillna(X.mean(), inplace=True)\n",
        "y.fillna(y.mean(), inplace=True)"
      ]
    },
    {
      "cell_type": "code",
      "execution_count": 4,
      "metadata": {
        "colab": {
          "base_uri": "https://localhost:8080/"
        },
        "id": "eHTR6Y88V_ts",
        "outputId": "31fffedd-b5e6-4dba-b246-9e68713d8442"
      },
      "outputs": [
        {
          "output_type": "stream",
          "name": "stdout",
          "text": [
            "Missing values in X: amt                            0\n",
            "000 Jennifer Mills             0\n",
            "0005 Morrison Land             0\n",
            "00315 Ashley Valleys           0\n",
            "0043 Henry Plaza               0\n",
            "                              ..\n",
            "997 Cameron Meadow Apt. 980    0\n",
            "99736 Rose Shoals Apt. 504     0\n",
            "cc_num                         0\n",
            "trans_num                      0\n",
            "amt                            0\n",
            "Length: 901, dtype: int64\n",
            "Missing values in y: is_fraud    0\n",
            "dtype: int64\n"
          ]
        }
      ],
      "source": [
        "import numpy as np\n",
        "\n",
        "# Check for missing values in X_train and X_test\n",
        "missing_values_X = np.isnan(X).sum()\n",
        "missing_values_y = np.isnan(y).sum()\n",
        "\n",
        "print(\"Missing values in X:\", missing_values_X)\n",
        "print(\"Missing values in y:\", missing_values_y)"
      ]
    },
    {
      "cell_type": "code",
      "execution_count": 5,
      "metadata": {
        "id": "UaF-c8YQTpiS"
      },
      "outputs": [],
      "source": [
        "# Step 4: Split data into training and testing sets\n",
        "X_train, X_test, y_train, y_test = train_test_split(X, y, test_size=0.2, random_state=42)\n",
        "\n",
        "# Step 5: Normalize the data\n",
        "scaler = StandardScaler()\n",
        "X_train = scaler.fit_transform(X_train)\n",
        "X_test = scaler.transform(X_test)"
      ]
    },
    {
      "cell_type": "code",
      "execution_count": 6,
      "metadata": {
        "colab": {
          "base_uri": "https://localhost:8080/"
        },
        "id": "oEps3ksjT3EM",
        "outputId": "0ff4eccd-0964-46a5-b347-008f22ad9c0b"
      },
      "outputs": [
        {
          "output_type": "execute_result",
          "data": {
            "text/plain": [
              "array([[-4.35365130e-01, -3.79686003e-02, -3.09937864e-02, ...,\n",
              "        -3.16845050e-03,  5.55002444e-03,  7.26991679e-03],\n",
              "       [-2.13874554e-01, -3.79686003e-02, -3.09937864e-02, ...,\n",
              "        -3.16845050e-03,  5.55002444e-03,  7.26991679e-03],\n",
              "       [-4.66706246e-01, -3.79686003e-02, -3.09937864e-02, ...,\n",
              "        -3.16845050e-03,  5.55002444e-03,  7.26991679e-03],\n",
              "       ...,\n",
              "       [ 7.23008823e-02, -3.79686003e-02, -3.09937864e-02, ...,\n",
              "         9.30619644e+00,  7.25879661e+00, -4.86490350e-01],\n",
              "       [-6.07490943e-01, -3.79686003e-02, -3.09937864e-02, ...,\n",
              "        -3.16845050e-03,  5.55002444e-03,  7.26991679e-03],\n",
              "       [-2.01203660e-02, -3.79686003e-02, -3.09937864e-02, ...,\n",
              "        -3.16845050e-03,  5.55002444e-03,  7.26991679e-03]])"
            ]
          },
          "metadata": {},
          "execution_count": 6
        }
      ],
      "source": [
        "X_train"
      ]
    },
    {
      "cell_type": "code",
      "execution_count": 7,
      "metadata": {
        "colab": {
          "base_uri": "https://localhost:8080/"
        },
        "id": "-IPhIl-lUzpk",
        "outputId": "3bb2980d-5069-4aae-80bb-27edf89f4675"
      },
      "outputs": [
        {
          "output_type": "execute_result",
          "data": {
            "text/plain": [
              "array([[ 0.42055776, -0.0379686 , -0.03099379, ..., -0.00316845,\n",
              "         0.00555002,  0.00726992],\n",
              "       [-0.33953941, -0.0379686 , -0.03099379, ..., -0.00316845,\n",
              "         0.00555002,  0.00726992],\n",
              "       [-0.57054247, -0.0379686 , -0.03099379, ..., -0.00316845,\n",
              "         0.00555002,  0.00726992],\n",
              "       ...,\n",
              "       [ 0.09292794, -0.0379686 , -0.03099379, ..., -0.00316845,\n",
              "         0.00555002,  0.00726992],\n",
              "       [-0.3675762 , -0.0379686 , -0.03099379, ..., -0.00316845,\n",
              "         0.00555002,  0.00726992],\n",
              "       [-0.62281104, -0.0379686 , -0.03099379, ..., -0.00316845,\n",
              "         0.00555002,  0.00726992]])"
            ]
          },
          "metadata": {},
          "execution_count": 7
        }
      ],
      "source": [
        "X_test"
      ]
    },
    {
      "cell_type": "code",
      "execution_count": 8,
      "metadata": {
        "colab": {
          "base_uri": "https://localhost:8080/"
        },
        "id": "bRmenNGCVKQK",
        "outputId": "eadb63ad-987c-47ae-80ec-23589c0c1d30"
      },
      "outputs": [
        {
          "output_type": "stream",
          "name": "stderr",
          "text": [
            "<ipython-input-8-0ed796ef0b20>:6: DataConversionWarning: A column-vector y was passed when a 1d array was expected. Please change the shape of y to (n_samples,), for example using ravel().\n",
            "  model.fit(X_train, y_train_binary)  # Use y_train_binary instead of y_train\n"
          ]
        }
      ],
      "source": [
        "threshold = 0.5  # Set your threshold here\n",
        "y_train_binary = (y_train > threshold).astype(int)\n",
        "\n",
        "# Step 6: Train a fraud detection model (Random Forest Classifier)\n",
        "model = RandomForestClassifier(n_estimators=100, random_state=42)\n",
        "model.fit(X_train, y_train_binary)  # Use y_train_binary instead of y_train\n",
        "\n",
        "# Step 7: Evaluate the model\n",
        "y_pred = model.predict(X_test)"
      ]
    },
    {
      "cell_type": "code",
      "execution_count": 9,
      "metadata": {
        "colab": {
          "base_uri": "https://localhost:8080/"
        },
        "id": "nY88mDoEVPFi",
        "outputId": "9563528a-258e-4ae0-b5cf-d2c40feedf35"
      },
      "outputs": [
        {
          "output_type": "stream",
          "name": "stdout",
          "text": [
            "Accuracy: 0.9968010236724248\n",
            "Precision: 0.8333333333333334\n",
            "Recall: 0.7692307692307693\n",
            "F1 Score: 0.8\n",
            "Confusion Matrix:\n",
            "[[1548    2]\n",
            " [   3   10]]\n"
          ]
        }
      ],
      "source": [
        "# Calculate evaluation metrics\n",
        "accuracy = accuracy_score(y_test, y_pred)\n",
        "precision = precision_score(y_test, y_pred)\n",
        "recall = recall_score(y_test, y_pred)\n",
        "f1 = f1_score(y_test, y_pred)\n",
        "conf_matrix = confusion_matrix(y_test, y_pred)\n",
        "\n",
        "print(f\"Accuracy: {accuracy}\")\n",
        "print(f\"Precision: {precision}\")\n",
        "print(f\"Recall: {recall}\")\n",
        "print(f\"F1 Score: {f1}\")\n",
        "print(f\"Confusion Matrix:\\n{conf_matrix}\")\n"
      ]
    },
    {
      "cell_type": "code",
      "execution_count": 26,
      "metadata": {
        "id": "v3Jo3vLdWn_U"
      },
      "outputs": [],
      "source": [
        "# Step 6: Save the trained model\n",
        "import joblib\n",
        "joblib.dump(model, \"fraud_detection_model.pkl\")\n",
        "\n",
        "# Step 7: Continuously update the model with new data (assuming you have new data)\n",
        "# Load the saved model\n",
        "loaded_model = joblib.load(\"fraud_detection_model.pkl\")\n",
        "\n",
        "# Load and preprocess new data (replace 'new_data.csv' with your new data file)\n",
        "new_data = pd.read_csv(\"new data.csv\")\n",
        "# new_data = new_data.drop(['trans_date_trans_time'], axis=1)\n",
        "X_new = new_data.drop(\"is_fraud\", axis=1)\n",
        "y_new = new_data[\"is_fraud\"]\n"
      ]
    },
    {
      "cell_type": "code",
      "execution_count": 27,
      "metadata": {
        "id": "lnowFTFYdFyz",
        "colab": {
          "base_uri": "https://localhost:8080/"
        },
        "outputId": "eab33415-498b-407b-bd30-f74e2620ecb6"
      },
      "outputs": [
        {
          "output_type": "stream",
          "name": "stderr",
          "text": [
            "<ipython-input-27-74cb33ea8cd6>:24: DataConversionWarning: A column-vector y was passed when a 1d array was expected. Please change the shape of y to (n_samples,), for example using ravel().\n",
            "  loaded_model.fit(X_new_numeric, y_new_binary)\n"
          ]
        },
        {
          "output_type": "execute_result",
          "data": {
            "text/plain": [
              "['fraud_detection_model.pkl']"
            ]
          },
          "metadata": {},
          "execution_count": 27
        }
      ],
      "source": [
        "# Separate numeric and non-numeric columns\n",
        "numeric_cols = new_data.select_dtypes(include=['float64', 'int64']).columns\n",
        "non_numeric_cols = new_data.select_dtypes(exclude=['float64', 'int64']).columns\n",
        "\n",
        "# # Create a StandardScaler instance\n",
        "scaler = StandardScaler()\n",
        "\n",
        "# Scale only the numeric columns\n",
        "X_new_numeric = scaler.fit_transform(new_data[numeric_cols])\n",
        "\n",
        "# # Combine the scaled numeric columns and non-numeric columns back together\n",
        "X_new = pd.concat([pd.DataFrame(X_new_numeric, columns=numeric_cols), new_data[non_numeric_cols]], axis=1)\n",
        "# X_new\n",
        "X_new_numeric = pd.DataFrame(X_new_numeric)\n",
        "y_new = pd.DataFrame(y_new)\n",
        "\n",
        "X_new_numeric.fillna(X_new_numeric.mean(), inplace=True)\n",
        "y_new.fillna(y_new.mean(), inplace=True)\n",
        "# Convert y_new to binary labels based on a threshold\n",
        "threshold = 0.5  # Adjust the threshold as needed\n",
        "y_new_binary = (y_new > threshold).astype(int)\n",
        "\n",
        "# # Update the model with new data\n",
        "loaded_model.fit(X_new_numeric, y_new_binary)\n",
        "\n",
        "# Save the updated model\n",
        "joblib.dump(loaded_model, \"fraud_detection_model.pkl\")"
      ]
    },
    {
      "cell_type": "code",
      "source": [
        "# Assuming you have a new transaction stored in a variable called 'new_transaction'\n",
        "prediction = loaded_model.predict(X_new_numeric)\n",
        "prediction"
      ],
      "metadata": {
        "colab": {
          "base_uri": "https://localhost:8080/"
        },
        "id": "4rr4NeVqdacq",
        "outputId": "ea8bd2f7-2d49-4441-89ba-5f9ae43ec495"
      },
      "execution_count": 31,
      "outputs": [
        {
          "output_type": "execute_result",
          "data": {
            "text/plain": [
              "array([0, 0, 0, ..., 0, 0, 0])"
            ]
          },
          "metadata": {},
          "execution_count": 31
        }
      ]
    },
    {
      "cell_type": "code",
      "source": [
        "\n",
        "import numpy as np\n",
        "\n",
        "# Create a NumPy array with values for all 11 features\n",
        "new_data_array = np.array([\n",
        "    [100.0, 0, 1, 0, 0, 0, 0, 0, 0, 10, 75.5]\n",
        "])\n",
        "\n",
        "# 100.0: This  represent the \"transaction_amount\" feature.\n",
        "# 0, 1, 0, 0, 0, 0, 0, 0, 0: These binary values may correspond to one-hot encoded location features (e.g., \"transaction_location_A,\" \"transaction_location_B,\" and so on).\n",
        "# 10: This may represent the \"user_behavior_trans_num\" feature.\n",
        "# 75.5: This might correspond to the \"user_behavior_amt\" feature.\n",
        "\n",
        "\n",
        "# # Make predictions on the new data\n",
        "\n",
        "predictions = loaded_model.predict(new_data_array)\n",
        "\n",
        "predictions\n"
      ],
      "metadata": {
        "colab": {
          "base_uri": "https://localhost:8080/"
        },
        "id": "rsH4FXHAf4fL",
        "outputId": "194c0701-da75-4486-9b66-b614ee47849f"
      },
      "execution_count": 41,
      "outputs": [
        {
          "output_type": "execute_result",
          "data": {
            "text/plain": [
              "array([1])"
            ]
          },
          "metadata": {},
          "execution_count": 41
        }
      ]
    },
    {
      "cell_type": "code",
      "source": [],
      "metadata": {
        "id": "izw9HKPthNwf"
      },
      "execution_count": null,
      "outputs": []
    }
  ],
  "metadata": {
    "accelerator": "TPU",
    "colab": {
      "provenance": []
    },
    "kernelspec": {
      "display_name": "Python 3",
      "name": "python3"
    },
    "language_info": {
      "name": "python"
    }
  },
  "nbformat": 4,
  "nbformat_minor": 0
}