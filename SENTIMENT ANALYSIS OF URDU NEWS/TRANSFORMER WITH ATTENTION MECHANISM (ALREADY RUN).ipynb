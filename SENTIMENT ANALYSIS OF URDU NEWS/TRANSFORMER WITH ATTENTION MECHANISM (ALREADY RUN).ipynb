{
 "cells": [
  {
   "cell_type": "code",
   "execution_count": 1,
   "id": "c7c7775e",
   "metadata": {},
   "outputs": [
    {
     "name": "stderr",
     "output_type": "stream",
     "text": [
      "Some weights of the model checkpoint at bert-base-multilingual-cased were not used when initializing BertForSequenceClassification: ['cls.predictions.transform.dense.weight', 'cls.predictions.bias', 'cls.predictions.transform.LayerNorm.weight', 'cls.predictions.decoder.weight', 'cls.predictions.transform.LayerNorm.bias', 'cls.seq_relationship.weight', 'cls.seq_relationship.bias', 'cls.predictions.transform.dense.bias']\n",
      "- This IS expected if you are initializing BertForSequenceClassification from the checkpoint of a model trained on another task or with another architecture (e.g. initializing a BertForSequenceClassification model from a BertForPreTraining model).\n",
      "- This IS NOT expected if you are initializing BertForSequenceClassification from the checkpoint of a model that you expect to be exactly identical (initializing a BertForSequenceClassification model from a BertForSequenceClassification model).\n",
      "Some weights of BertForSequenceClassification were not initialized from the model checkpoint at bert-base-multilingual-cased and are newly initialized: ['classifier.weight', 'classifier.bias']\n",
      "You should probably TRAIN this model on a down-stream task to be able to use it for predictions and inference.\n"
     ]
    }
   ],
   "source": [
    "import pandas as pd\n",
    "import torch\n",
    "import transformers\n",
    "from sklearn.model_selection import train_test_split\n",
    "from torch.utils.data import DataLoader, Dataset\n",
    "\n",
    "# Load the pre-trained transformer model\n",
    "model_name = \"bert-base-multilingual-cased\"\n",
    "tokenizer = transformers.BertTokenizer.from_pretrained(model_name)\n",
    "model = transformers.BertForSequenceClassification.from_pretrained(model_name, num_labels=3)\n",
    "\n",
    "# Add attention mechanism\n",
    "class Attention(torch.nn.Module):\n",
    "    def __init__(self, hidden_dim):\n",
    "        super(Attention, self).__init__()\n",
    "        self.hidden_dim = hidden_dim\n",
    "        self.attn = torch.nn.Linear(hidden_dim * 2, hidden_dim)\n",
    "        self.v = torch.nn.Linear(hidden_dim, 1, bias=False)\n",
    "\n",
    "    def forward(self, hidden_states, attention_mask):\n",
    "        # hidden_states shape: (batch_size, seq_length, hidden_dim)\n",
    "        # attention_mask shape: (batch_size, seq_length)\n",
    "        seq_length = hidden_states.size(1)\n",
    "        h = hidden_states.unsqueeze(2).expand(-1, -1, seq_length, -1)  # shape: (batch_size, seq_length, seq_length, hidden_dim)\n",
    "        h_t = hidden_states.unsqueeze(1).expand(-1, seq_length, -1, -1)  # shape: (batch_size, seq_length, seq_length, hidden_dim)\n",
    "        concatenated = torch.cat([h, h_t], dim=-1)  # shape: (batch_size, seq_length, seq_length, hidden_dim * 2)\n",
    "        concatenated = concatenated.view(-1, seq_length, seq_length, self.hidden_dim * 2)\n",
    "        energy = torch.tanh(self.attn(concatenated))  # shape: (batch_size, seq_length, seq_length, hidden_dim)\n",
    "        energy = energy.view(-1, seq_length, seq_length, self.hidden_dim)\n",
    "        v = self.v(energy).squeeze(-1)  # shape: (batch_size, seq_length, seq_length)\n",
    "        v = v.masked_fill(attention_mask.unsqueeze(1) == 0, -1e9)\n",
    "        attn_weights = torch.softmax(v, dim=-1)  # shape: (batch_size, seq_length, seq_length)\n",
    "        context_vector = torch.einsum(\"bsj,bsj->bs\", attn_weights, hidden_states)  # shape: (batch_size, hidden_dim)\n",
    "        return context_vector, attn_weights\n",
    "\n",
    "# Define dataset class for Urdu news\n",
    "class UrduNewsDataset(Dataset):\n",
    "    def __init__(self, data, max_len):\n",
    "        self.data = data\n",
    "        self.max_len = max_len\n",
    "\n",
    "    def __len__(self):\n",
    "        return len(self.data)\n",
    "\n",
    "    def __getitem__(self, index):\n",
    "        text = str(self.data.iloc[index][\"NEWS\"])\n",
    "        label = int(self.data.iloc[index][\"LABELS\"])\n",
    "        inputs = tokenizer.encode_plus(\n",
    "            text,\n",
    "            None,\n",
    "            add_special_tokens=True,\n",
    "            max_length=self.max_len,\n",
    "            padding=\"max_length\",\n",
    "            truncation=True,\n",
    "            return_attention_mask=True,\n",
    "            return_tensors=\"pt\",\n",
    "        )\n",
    "        return {\n",
    "            \"input_ids\": inputs[\"input_ids\"].squeeze(),\n",
    "            \"attention_mask\": inputs[\"attention_mask\"].squeeze(),\n",
    "            \"labels\": torch.tensor(label, dtype=torch.long),\n",
    "        }\n",
    "    \n",
    "# Load and preprocess the data\n",
    "data = pd.read_csv(\"3sentiments1.csv\")\n",
    "train_data, test_data = train_test_split(data, test_size=0.2)\n",
    "train_dataset = UrduNewsDataset(train_data, max_len=128)\n",
    "test_dataset = UrduNewsDataset(test_data, max_len=128)\n",
    "train_loader = DataLoader(train_dataset, batch_size=16, shuffle=True)\n",
    "test_loader = DataLoader(test_dataset, batch_size=16, shuffle=False)\n"
   ]
  },
  {
   "cell_type": "code",
   "execution_count": 2,
   "id": "704e49d1",
   "metadata": {},
   "outputs": [
    {
     "name": "stdout",
     "output_type": "stream",
     "text": [
      "Epoch 1 - Train Loss: 0.7279 - Train Acc: 0.5550 - Test Loss: 0.5858 - Test Acc: 0.7467\n",
      "Epoch 2 - Train Loss: 0.5698 - Train Acc: 0.7117 - Test Loss: 0.5124 - Test Acc: 0.7700\n",
      "Epoch 3 - Train Loss: 0.3898 - Train Acc: 0.8333 - Test Loss: 0.6690 - Test Acc: 0.6800\n",
      "Epoch 4 - Train Loss: 0.2661 - Train Acc: 0.8900 - Test Loss: 0.6416 - Test Acc: 0.7400\n",
      "Epoch 5 - Train Loss: 0.1390 - Train Acc: 0.9542 - Test Loss: 0.7858 - Test Acc: 0.7567\n"
     ]
    }
   ],
   "source": [
    "# # Train the model\n",
    "device = torch.device(\"cuda\" if torch.cuda.is_available() else \"cpu\")\n",
    "model.to(device)\n",
    "optimizer = torch.optim.Adam(model.parameters(), lr=2e-5)\n",
    "loss_fn = torch.nn.CrossEntropyLoss()\n",
    "num_epochs = 5\n",
    "for epoch in range(num_epochs):\n",
    "    train_loss = 0.0\n",
    "    train_correct = 0\n",
    "    model.train()\n",
    "    for batch in train_loader:\n",
    "        input_ids = batch[\"input_ids\"].to(device)\n",
    "        attention_mask = batch[\"attention_mask\"].to(device)\n",
    "        labels = batch[\"labels\"].to(device)\n",
    "        optimizer.zero_grad()\n",
    "        outputs = model(input_ids, attention_mask=attention_mask)\n",
    "        logits = outputs.logits\n",
    "        _, predictions = torch.max(logits, dim=1)\n",
    "        loss = loss_fn(logits, labels)\n",
    "        loss.backward()\n",
    "        optimizer.step()\n",
    "        train_loss += loss.item()\n",
    "        train_correct += torch.sum(predictions == labels).item()\n",
    "    train_loss /= len(train_loader)\n",
    "    train_acc = train_correct / len(train_loader.dataset)\n",
    "    \n",
    "    # Evaluate the model on the test set\n",
    "    test_loss = 0.0\n",
    "    test_correct = 0\n",
    "    model.eval()\n",
    "    with torch.no_grad():\n",
    "        for batch in test_loader:\n",
    "            input_ids = batch[\"input_ids\"].to(device)\n",
    "            attention_mask = batch[\"attention_mask\"].to(device)\n",
    "            labels = batch[\"labels\"].to(device)\n",
    "            outputs = model(input_ids, attention_mask=attention_mask)\n",
    "            logits = outputs.logits\n",
    "            _, predictions = torch.max(logits, dim=1)\n",
    "            loss = loss_fn(logits, labels)\n",
    "            test_loss += loss.item()\n",
    "            test_correct += torch.sum(predictions == labels).item()\n",
    "        test_loss /= len(test_loader)\n",
    "        test_acc = test_correct / len(test_loader.dataset)\n",
    "    \n",
    "    print(f\"Epoch {epoch+1} - Train Loss: {train_loss:.4f} - Train Acc: {train_acc:.4f} - Test Loss: {test_loss:.4f} - Test Acc: {test_acc:.4f}\")"
   ]
  },
  {
   "cell_type": "code",
   "execution_count": 3,
   "id": "86f37b64",
   "metadata": {},
   "outputs": [
    {
     "name": "stdout",
     "output_type": "stream",
     "text": [
      "Confusion matrix:\n",
      "[[ 97  43]\n",
      " [ 30 130]]\n",
      "\n",
      "Classification report:\n",
      "              precision    recall  f1-score   support\n",
      "\n",
      "           0       0.76      0.69      0.73       140\n",
      "           1       0.75      0.81      0.78       160\n",
      "\n",
      "    accuracy                           0.76       300\n",
      "   macro avg       0.76      0.75      0.75       300\n",
      "weighted avg       0.76      0.76      0.76       300\n",
      "\n"
     ]
    }
   ],
   "source": [
    "from sklearn.metrics import confusion_matrix, classification_report\n",
    "\n",
    "model.eval()\n",
    "y_true = []\n",
    "y_pred = []\n",
    "with torch.no_grad():\n",
    "    for batch in test_loader:\n",
    "        input_ids = batch[\"input_ids\"].to(device)\n",
    "        attention_mask = batch[\"attention_mask\"].to(device)\n",
    "        labels = batch[\"labels\"].to(device)\n",
    "        outputs = model(input_ids, attention_mask=attention_mask)\n",
    "        logits = outputs.logits\n",
    "        _, predictions = torch.max(logits, dim=1)\n",
    "        y_true.extend(labels.tolist())\n",
    "        y_pred.extend(predictions.tolist())\n",
    "\n",
    "print(\"Confusion matrix:\")\n",
    "print(confusion_matrix(y_true, y_pred))\n",
    "print(\"\\nClassification report:\")\n",
    "print(classification_report(y_true, y_pred))"
   ]
  },
  {
   "cell_type": "code",
   "execution_count": 17,
   "id": "754729ee",
   "metadata": {},
   "outputs": [
    {
     "data": {
      "image/png": "[encoded data removed]",
      "text/plain": [
       "<Figure size 432x288 with 1 Axes>"
      ]
     },
     "metadata": {
      "needs_background": "light"
     },
     "output_type": "display_data"
    }
   ],
   "source": [
    "import matplotlib.pyplot as plt\n",
    "import numpy as np\n",
    "\n",
    "# Define the class labels\n",
    "class_labels = ['Class 0', 'Class 1']\n",
    "\n",
    "# Define the precision, recall, and F1-score for each class\n",
    "precision = [0.76, 0.75]\n",
    "recall = [0.69, 0.81]\n",
    "f1_score = [0.73, 0.78]\n",
    "\n",
    "# Define the x-axis locations for the bars\n",
    "x_ticks = np.arange(len(class_labels))\n",
    "\n",
    "# Set the bar width\n",
    "bar_width = 0.25\n",
    "\n",
    "# Plot the precision, recall, and F1-score for each class as separate bars\n",
    "fig, ax = plt.subplots()\n",
    "ax.bar(x_ticks - bar_width, precision, bar_width, label='Precision')\n",
    "ax.bar(x_ticks, recall, bar_width, label='Recall')\n",
    "ax.bar(x_ticks + bar_width, f1_score, bar_width, label='F1-score')\n",
    "\n",
    "# Add labels, title, and legend\n",
    "ax.set_xlabel('Class')\n",
    "ax.set_ylabel('Score')\n",
    "ax.set_title('Classification Metrics(TRANSFORMER)')\n",
    "ax.set_xticks(x_ticks)\n",
    "ax.set_xticklabels(class_labels)\n",
    "ax.legend()\n",
    "\n",
    "# Show the plot\n",
    "plt.show()"
   ]
  },
  {
   "cell_type": "code",
   "execution_count": 16,
   "id": "0fc59534",
   "metadata": {},
   "outputs": [
    {
     "data": {
      "image/png": "[encoded data removed]",
      "text/plain": [
       "<Figure size 432x288 with 2 Axes>"
      ]
     },
     "metadata": {
      "needs_background": "light"
     },
     "output_type": "display_data"
    }
   ],
   "source": [
    "import seaborn as sns\n",
    "import matplotlib.pyplot as plt\n",
    "from sklearn.metrics import confusion_matrix\n",
    "\n",
    "# Get the confusion matrix using sklearn.metrics\n",
    "conf_matrix = confusion_matrix(y_true, y_pred)\n",
    "\n",
    "# Plot the confusion matrix heatmap using seaborn\n",
    "sns.heatmap(conf_matrix, annot=True, cmap=\"Blues\")\n",
    "\n",
    "# Add labels and title to the plot\n",
    "plt.xlabel(\"Predicted labels\")\n",
    "plt.ylabel(\"True labels\")\n",
    "plt.title(\"Confusion Matrix(TRANSFORMER)\")\n",
    "\n",
    "# Show the plot\n",
    "plt.show()"
   ]
  },
  {
   "cell_type": "code",
   "execution_count": 20,
   "id": "60fd4aa0",
   "metadata": {},
   "outputs": [
    {
     "name": "stdout",
     "output_type": "stream",
     "text": [
      "  ************ TRANSFORMER **********\n",
      "امریکا سے آکر خاتون نے سندھ کے اسپتال سے آپریشن کروالیا\n",
      "Neutral\n"
     ]
    }
   ],
   "source": [
    "print(\"  ************ TRANSFORMER **********\")\n",
    "text = \"امریکا سے آکر خاتون نے سندھ کے اسپتال سے آپریشن کروالیا\"\n",
    "inputs = tokenizer.encode_plus(\n",
    "            text,\n",
    "            None,\n",
    "            add_special_tokens=True,\n",
    "            max_length=128,\n",
    "            padding=\"max_length\",\n",
    "            truncation=True,\n",
    "            return_attention_mask=True,\n",
    "            return_tensors=\"pt\",\n",
    "        )\n",
    "input_ids = inputs[\"input_ids\"].to(device)\n",
    "attention_mask = inputs[\"attention_mask\"].to(device)\n",
    "with torch.no_grad():\n",
    "    outputs = model(input_ids, attention_mask=attention_mask)\n",
    "    logits = outputs.logits\n",
    "    _, predictions = torch.max(logits, dim=1)\n",
    "sentiment = predictions.item()\n",
    "print(text)\n",
    "if sentiment == 0:\n",
    "    print(\"Negative\")\n",
    "elif sentiment == 1:\n",
    "    print(\"Neutral\")\n",
    "else:\n",
    "    print(\"Positive\")\n"
   ]
  },
  {
   "cell_type": "code",
   "execution_count": null,
   "id": "394df48a",
   "metadata": {},
   "outputs": [],
   "source": []
  }
 ],
 "metadata": {
  "kernelspec": {
   "display_name": "Python 3 (ipykernel)",
   "language": "python",
   "name": "python3"
  },
  "language_info": {
   "codemirror_mode": {
    "name": "ipython",
    "version": 3
   },
   "file_extension": ".py",
   "mimetype": "text/x-python",
   "name": "python",
   "nbconvert_exporter": "python",
   "pygments_lexer": "ipython3",
   "version": "3.9.12"
  }
 },
 "nbformat": 4,
 "nbformat_minor": 5
}
