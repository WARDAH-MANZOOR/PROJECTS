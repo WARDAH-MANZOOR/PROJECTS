{
 "cells": [
  {
   "cell_type": "code",
   "execution_count": 1,
   "metadata": {
    "id": "nZmRs4bMyl90"
   },
   "outputs": [
    {
     "name": "stdout",
     "output_type": "stream",
     "text": [
      "Requirement already satisfied: easyocr in c:\\users\\user\\anaconda3\\lib\\site-packages (1.7.0)Note: you may need to restart the kernel to use updated packages.\n",
      "\n",
      "Requirement already satisfied: torch in c:\\users\\user\\anaconda3\\lib\\site-packages (from easyocr) (2.0.1)\n",
      "Requirement already satisfied: torchvision>=0.5 in c:\\users\\user\\anaconda3\\lib\\site-packages (from easyocr) (0.15.2)\n",
      "Requirement already satisfied: opencv-python-headless in c:\\users\\user\\anaconda3\\lib\\site-packages (from easyocr) (4.8.0.76)\n",
      "Requirement already satisfied: scipy in c:\\users\\user\\anaconda3\\lib\\site-packages (from easyocr) (1.10.1)\n",
      "Requirement already satisfied: numpy in c:\\users\\user\\anaconda3\\lib\\site-packages (from easyocr) (1.24.3)\n",
      "Requirement already satisfied: Pillow in c:\\users\\user\\anaconda3\\lib\\site-packages (from easyocr) (9.4.0)\n",
      "Requirement already satisfied: scikit-image in c:\\users\\user\\anaconda3\\lib\\site-packages (from easyocr) (0.20.0)\n",
      "Requirement already satisfied: python-bidi in c:\\users\\user\\anaconda3\\lib\\site-packages (from easyocr) (0.4.2)\n",
      "Requirement already satisfied: PyYAML in c:\\users\\user\\anaconda3\\lib\\site-packages (from easyocr) (6.0)\n",
      "Requirement already satisfied: Shapely in c:\\users\\user\\anaconda3\\lib\\site-packages (from easyocr) (2.0.1)\n",
      "Requirement already satisfied: pyclipper in c:\\users\\user\\anaconda3\\lib\\site-packages (from easyocr) (1.3.0.post4)\n",
      "Requirement already satisfied: ninja in c:\\users\\user\\anaconda3\\lib\\site-packages (from easyocr) (1.11.1)\n",
      "Requirement already satisfied: requests in c:\\users\\user\\anaconda3\\lib\\site-packages (from torchvision>=0.5->easyocr) (2.29.0)\n",
      "Requirement already satisfied: filelock in c:\\users\\user\\anaconda3\\lib\\site-packages (from torch->easyocr) (3.9.0)\n",
      "Requirement already satisfied: typing-extensions in c:\\users\\user\\anaconda3\\lib\\site-packages (from torch->easyocr) (4.5.0)\n",
      "Requirement already satisfied: sympy in c:\\users\\user\\anaconda3\\lib\\site-packages (from torch->easyocr) (1.11.1)\n",
      "Requirement already satisfied: networkx in c:\\users\\user\\anaconda3\\lib\\site-packages (from torch->easyocr) (2.8.4)\n",
      "Requirement already satisfied: jinja2 in c:\\users\\user\\anaconda3\\lib\\site-packages (from torch->easyocr) (3.1.2)\n",
      "Requirement already satisfied: six in c:\\users\\user\\anaconda3\\lib\\site-packages (from python-bidi->easyocr) (1.16.0)\n",
      "Requirement already satisfied: imageio>=2.4.1 in c:\\users\\user\\anaconda3\\lib\\site-packages (from scikit-image->easyocr) (2.26.0)\n",
      "Requirement already satisfied: tifffile>=2019.7.26 in c:\\users\\user\\anaconda3\\lib\\site-packages (from scikit-image->easyocr) (2021.7.2)\n",
      "Requirement already satisfied: PyWavelets>=1.1.1 in c:\\users\\user\\anaconda3\\lib\\site-packages (from scikit-image->easyocr) (1.4.1)\n",
      "Requirement already satisfied: packaging>=20.0 in c:\\users\\user\\anaconda3\\lib\\site-packages (from scikit-image->easyocr) (23.0)\n",
      "Requirement already satisfied: lazy_loader>=0.1 in c:\\users\\user\\anaconda3\\lib\\site-packages (from scikit-image->easyocr) (0.2)\n",
      "Requirement already satisfied: MarkupSafe>=2.0 in c:\\users\\user\\anaconda3\\lib\\site-packages (from jinja2->torch->easyocr) (2.1.1)\n",
      "Requirement already satisfied: charset-normalizer<4,>=2 in c:\\users\\user\\anaconda3\\lib\\site-packages (from requests->torchvision>=0.5->easyocr) (2.0.4)\n",
      "Requirement already satisfied: idna<4,>=2.5 in c:\\users\\user\\anaconda3\\lib\\site-packages (from requests->torchvision>=0.5->easyocr) (3.4)\n",
      "Requirement already satisfied: urllib3<1.27,>=1.21.1 in c:\\users\\user\\anaconda3\\lib\\site-packages (from requests->torchvision>=0.5->easyocr) (1.26.16)\n",
      "Requirement already satisfied: certifi>=2017.4.17 in c:\\users\\user\\anaconda3\\lib\\site-packages (from requests->torchvision>=0.5->easyocr) (2023.5.7)\n",
      "Requirement already satisfied: mpmath>=0.19 in c:\\users\\user\\anaconda3\\lib\\site-packages (from sympy->torch->easyocr) (1.2.1)\n"
     ]
    }
   ],
   "source": [
    "pip install easyocr\n"
   ]
  },
  {
   "cell_type": "code",
   "execution_count": null,
   "metadata": {
    "id": "ZCwYRbJdyqFV"
   },
   "outputs": [],
   "source": [
    "import easyocr"
   ]
  },
  {
   "cell_type": "code",
   "execution_count": null,
   "metadata": {
    "id": "OmaN1sHcyqrL"
   },
   "outputs": [],
   "source": [
    "reader = easyocr.Reader(['th','en'])\n",
    "#result = reader.readtext('cn3.jpeg')"
   ]
  },
  {
   "cell_type": "code",
   "execution_count": null,
   "metadata": {
    "id": "6uhdV5jiytLm"
   },
   "outputs": [],
   "source": [
    "#result = reader.readtext('cn3.jpeg')\n",
    "result = reader.readtext('c.jpeg')\n",
    "a = []\n",
    "for x in result:\n",
    "  a.append(x[1].strip())\n",
    "print(a)"
   ]
  },
  {
   "cell_type": "code",
   "execution_count": null,
   "metadata": {
    "id": "JuJ3ZDgMzQ7V"
   },
   "outputs": [],
   "source": [
    "for i in range(len(a)):\n",
    "  if a[i] == \"name\":\n",
    "    print(a[i] + \" : \" + a[i+1])\n",
    "  if a[i][:6] == \"father\":\n",
    "    print(a[i] + \" : \" + a[i+1])\n",
    "  if a[i] == \"gender\":\n",
    "    print(a[i] + \" : \" + a[i+2])\n",
    "  if a[i][:7] == \"country\":\n",
    "    print(\"Country\" + \" : \" + a[i+2])\n",
    "  if a[i][:8] == \"ldentity\":\n",
    "    print(a[i] + \" : \" + a[i+2])\n",
    "  if a[i][-5:] == \"issue\":\n",
    "    print(a[i] + \" : \" + a[i+2])\n",
    "  if a[i][-6:] == \"expiry\":\n",
    "    print(a[i] + \" : \" + a[i+2])\n",
    "\n",
    "\n"
   ]
  },
  {
   "cell_type": "code",
   "execution_count": null,
   "metadata": {
    "id": "rf_RQWDoEwnM"
   },
   "outputs": [],
   "source": []
  }
 ],
 "metadata": {
  "colab": {
   "private_outputs": true,
   "provenance": []
  },
  "kernelspec": {
   "display_name": "Python 3 (ipykernel)",
   "language": "python",
   "name": "python3"
  },
  "language_info": {
   "codemirror_mode": {
    "name": "ipython",
    "version": 3
   },
   "file_extension": ".py",
   "mimetype": "text/x-python",
   "name": "python",
   "nbconvert_exporter": "python",
   "pygments_lexer": "ipython3",
   "version": "3.11.3"
  }
 },
 "nbformat": 4,
 "nbformat_minor": 1
}
