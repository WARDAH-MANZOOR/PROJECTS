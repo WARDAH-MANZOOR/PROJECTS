{
  "cells": [
    {
      "cell_type": "code",
      "execution_count": 1,
      "id": "c5ef240f",
      "metadata": {
        "id": "c5ef240f"
      },
      "outputs": [],
      "source": [
        "from attention import AttentionLayer"
      ]
    },
    {
      "cell_type": "code",
      "execution_count": 2,
      "id": "52a289d1",
      "metadata": {
        "colab": {
          "base_uri": "https://localhost:8080/"
        },
        "id": "52a289d1",
        "outputId": "f0c24e68-3c75-427b-b8e4-9613c5848d8c"
      },
      "outputs": [
        {
          "output_type": "stream",
          "name": "stderr",
          "text": [
            "[nltk_data] Downloading package stopwords to /root/nltk_data...\n",
            "[nltk_data]   Package stopwords is already up-to-date!\n"
          ]
        }
      ],
      "source": [
        "import numpy as np\n",
        "import pandas as pd\n",
        "import re\n",
        "import nltk\n",
        "nltk.download('stopwords')\n",
        "\n",
        "from bs4 import BeautifulSoup\n",
        "from keras.preprocessing.text import Tokenizer\n",
        "from tensorflow.keras.preprocessing.sequence import pad_sequences\n",
        "from nltk.corpus import stopwords\n",
        "from tensorflow.keras.layers import Input, LSTM, Embedding, Dense, Concatenate, TimeDistributed, Bidirectional\n",
        "from tensorflow.keras.models import Model\n",
        "from tensorflow.keras.callbacks import EarlyStopping\n",
        "import warnings\n",
        "pd.set_option(\"display.max_colwidth\", 200)\n",
        "warnings.filterwarnings(\"ignore\")"
      ]
    },
    {
      "cell_type": "code",
      "execution_count": 3,
      "id": "1c40a02f",
      "metadata": {
        "colab": {
          "base_uri": "https://localhost:8080/",
          "height": 1000
        },
        "id": "1c40a02f",
        "outputId": "2027451a-0aec-4776-b567-b96d76c42940"
      },
      "outputs": [
        {
          "output_type": "execute_result",
          "data": {
            "text/plain": [
              "        Id   ProductId          UserId                      ProfileName  \\\n",
              "0        1  B001E4KFG0  A3SGXH7AUHU8GW                       delmartian   \n",
              "1        2  B00813GRG4  A1D87F6ZCVE5NK                           dll pa   \n",
              "2        3  B000LQOCH0   ABXLMWJIXXAIN  Natalia Corres \"Natalia Corres\"   \n",
              "3        4  B000UA0QIQ  A395BORC6FGVXV                             Karl   \n",
              "4        5  B006K2ZZ7K  A1UQRSCLF8GW1T    Michael D. Bigham \"M. Wassir\"   \n",
              "...    ...         ...             ...                              ...   \n",
              "2995  2996  B0009JI7O8  A3KLEQQVY1I46S                           Spence   \n",
              "2996  2997  B0009JI7O8  A1WXEIP21U01ME                            zazza   \n",
              "2997  2998  B0009JI7O8   A7XPFLQYVPZAT                        Kim Voong   \n",
              "2998  2999  B0009JI7O8  A3ADANTR6G4LPB               Marjory Warrington   \n",
              "2999  3000  B0009JI7O8   AKHNCFO09GOG7                            Dicey   \n",
              "\n",
              "      HelpfulnessNumerator  HelpfulnessDenominator  Score        Time  \\\n",
              "0                        1                       1      5  1303862400   \n",
              "1                        0                       0      1  1346976000   \n",
              "2                        1                       1      4  1219017600   \n",
              "3                        3                       3      2  1307923200   \n",
              "4                        0                       0      5  1350777600   \n",
              "...                    ...                     ...    ...         ...   \n",
              "2995                     2                       2      4  1344297600   \n",
              "2996                     4                       5      5  1297900800   \n",
              "2997                     1                       1      2  1334361600   \n",
              "2998                     1                       1      5  1323129600   \n",
              "2999                     2                       3      1  1324857600   \n",
              "\n",
              "                            Summary  \\\n",
              "0             Good Quality Dog Food   \n",
              "1                 Not as Advertised   \n",
              "2             \"Delight\" says it all   \n",
              "3                    Cough Medicine   \n",
              "4                       Great taffy   \n",
              "...                             ...   \n",
              "2995              Color Discrepancy   \n",
              "2996                   crispy fresh   \n",
              "2997           they are soooo tiny!   \n",
              "2998  Excellent service and product   \n",
              "2999           boring boring boring   \n",
              "\n",
              "                                                                                                                                                                                                         Text  \n",
              "0     I have bought several of the Vitality canned dog food products and have found them all to be of good quality. The product looks more like a stew than a processed meat and it smells better. My Labr...  \n",
              "1              Product arrived labeled as Jumbo Salted Peanuts...the peanuts were actually small sized unsalted. Not sure if this was an error or if the vendor intended to represent the product as \"Jumbo\".  \n",
              "2     This is a confection that has been around a few centuries.  It is a light, pillowy citrus gelatin with nuts - in this case Filberts. And it is cut into tiny squares and then liberally coated with ...  \n",
              "3     If you are looking for the secret ingredient in Robitussin I believe I have found it.  I got this in addition to the Root Beer Extract I ordered (which was good) and made some cherry soda.  The fl...  \n",
              "4                                                                Great taffy at a great price.  There was a wide assortment of yummy taffy.  Delivery was very quick.  If your a taffy lover, this is a deal.  \n",
              "...                                                                                                                                                                                                       ...  \n",
              "2995  My primary reason for ordering, was the picture had shown the cookies as green. I will acknowledge that the \"Important Information\" heading listed a warning that the actual product may be differen...  \n",
              "2996  The cookie is crispy good and flavorful.  The fortunes are thoughtful, not the shallow ones we are seeing lately.(Be patient, even in time an egg will walk)  I received the quantity and quality I ...  \n",
              "2997  I was expecting these cookies were going to be normal size but i was wrong!  i was planning on dipping them in chocolates but they r not those average size at all! So disappointed! I now have to g...  \n",
              "2998  I ordered these fortune cookies as rewards for my students each time they passed a multiplication test (to go along with the theme \"Fortunately we know our math facts\").  The majority of the cooki...  \n",
              "2999  Reading in earlier reviews that these were genuine chinese fortunes, I served them with a chinese Christmas dinner and was greatly disappointed, as were my guests.  Three sample fortunes are:  \"Li...  \n",
              "\n",
              "[3000 rows x 10 columns]"
            ],
            "text/html": [
              "\n",
              "\n",
              "  <div id=\"df-6c8c41e8-4e99-43f9-9150-49e20f465ff1\">\n",
              "    <div class=\"colab-df-container\">\n",
              "      <div>\n",
              "<style scoped>\n",
              "    .dataframe tbody tr th:only-of-type {\n",
              "        vertical-align: middle;\n",
              "    }\n",
              "\n",
              "    .dataframe tbody tr th {\n",
              "        vertical-align: top;\n",
              "    }\n",
              "\n",
              "    .dataframe thead th {\n",
              "        text-align: right;\n",
              "    }\n",
              "</style>\n",
              "<table border=\"1\" class=\"dataframe\">\n",
              "  <thead>\n",
              "    <tr style=\"text-align: right;\">\n",
              "      <th></th>\n",
              "      <th>Id</th>\n",
              "      <th>ProductId</th>\n",
              "      <th>UserId</th>\n",
              "      <th>ProfileName</th>\n",
              "      <th>HelpfulnessNumerator</th>\n",
              "      <th>HelpfulnessDenominator</th>\n",
              "      <th>Score</th>\n",
              "      <th>Time</th>\n",
              "      <th>Summary</th>\n",
              "      <th>Text</th>\n",
              "    </tr>\n",
              "  </thead>\n",
              "  <tbody>\n",
              "    <tr>\n",
              "      <th>0</th>\n",
              "      <td>1</td>\n",
              "      <td>B001E4KFG0</td>\n",
              "      <td>A3SGXH7AUHU8GW</td>\n",
              "      <td>delmartian</td>\n",
              "      <td>1</td>\n",
              "      <td>1</td>\n",
              "      <td>5</td>\n",
              "      <td>1303862400</td>\n",
              "      <td>Good Quality Dog Food</td>\n",
              "      <td>I have bought several of the Vitality canned dog food products and have found them all to be of good quality. The product looks more like a stew than a processed meat and it smells better. My Labr...</td>\n",
              "    </tr>\n",
              "    <tr>\n",
              "      <th>1</th>\n",
              "      <td>2</td>\n",
              "      <td>B00813GRG4</td>\n",
              "      <td>A1D87F6ZCVE5NK</td>\n",
              "      <td>dll pa</td>\n",
              "      <td>0</td>\n",
              "      <td>0</td>\n",
              "      <td>1</td>\n",
              "      <td>1346976000</td>\n",
              "      <td>Not as Advertised</td>\n",
              "      <td>Product arrived labeled as Jumbo Salted Peanuts...the peanuts were actually small sized unsalted. Not sure if this was an error or if the vendor intended to represent the product as \"Jumbo\".</td>\n",
              "    </tr>\n",
              "    <tr>\n",
              "      <th>2</th>\n",
              "      <td>3</td>\n",
              "      <td>B000LQOCH0</td>\n",
              "      <td>ABXLMWJIXXAIN</td>\n",
              "      <td>Natalia Corres \"Natalia Corres\"</td>\n",
              "      <td>1</td>\n",
              "      <td>1</td>\n",
              "      <td>4</td>\n",
              "      <td>1219017600</td>\n",
              "      <td>\"Delight\" says it all</td>\n",
              "      <td>This is a confection that has been around a few centuries.  It is a light, pillowy citrus gelatin with nuts - in this case Filberts. And it is cut into tiny squares and then liberally coated with ...</td>\n",
              "    </tr>\n",
              "    <tr>\n",
              "      <th>3</th>\n",
              "      <td>4</td>\n",
              "      <td>B000UA0QIQ</td>\n",
              "      <td>A395BORC6FGVXV</td>\n",
              "      <td>Karl</td>\n",
              "      <td>3</td>\n",
              "      <td>3</td>\n",
              "      <td>2</td>\n",
              "      <td>1307923200</td>\n",
              "      <td>Cough Medicine</td>\n",
              "      <td>If you are looking for the secret ingredient in Robitussin I believe I have found it.  I got this in addition to the Root Beer Extract I ordered (which was good) and made some cherry soda.  The fl...</td>\n",
              "    </tr>\n",
              "    <tr>\n",
              "      <th>4</th>\n",
              "      <td>5</td>\n",
              "      <td>B006K2ZZ7K</td>\n",
              "      <td>A1UQRSCLF8GW1T</td>\n",
              "      <td>Michael D. Bigham \"M. Wassir\"</td>\n",
              "      <td>0</td>\n",
              "      <td>0</td>\n",
              "      <td>5</td>\n",
              "      <td>1350777600</td>\n",
              "      <td>Great taffy</td>\n",
              "      <td>Great taffy at a great price.  There was a wide assortment of yummy taffy.  Delivery was very quick.  If your a taffy lover, this is a deal.</td>\n",
              "    </tr>\n",
              "    <tr>\n",
              "      <th>...</th>\n",
              "      <td>...</td>\n",
              "      <td>...</td>\n",
              "      <td>...</td>\n",
              "      <td>...</td>\n",
              "      <td>...</td>\n",
              "      <td>...</td>\n",
              "      <td>...</td>\n",
              "      <td>...</td>\n",
              "      <td>...</td>\n",
              "      <td>...</td>\n",
              "    </tr>\n",
              "    <tr>\n",
              "      <th>2995</th>\n",
              "      <td>2996</td>\n",
              "      <td>B0009JI7O8</td>\n",
              "      <td>A3KLEQQVY1I46S</td>\n",
              "      <td>Spence</td>\n",
              "      <td>2</td>\n",
              "      <td>2</td>\n",
              "      <td>4</td>\n",
              "      <td>1344297600</td>\n",
              "      <td>Color Discrepancy</td>\n",
              "      <td>My primary reason for ordering, was the picture had shown the cookies as green. I will acknowledge that the \"Important Information\" heading listed a warning that the actual product may be differen...</td>\n",
              "    </tr>\n",
              "    <tr>\n",
              "      <th>2996</th>\n",
              "      <td>2997</td>\n",
              "      <td>B0009JI7O8</td>\n",
              "      <td>A1WXEIP21U01ME</td>\n",
              "      <td>zazza</td>\n",
              "      <td>4</td>\n",
              "      <td>5</td>\n",
              "      <td>5</td>\n",
              "      <td>1297900800</td>\n",
              "      <td>crispy fresh</td>\n",
              "      <td>The cookie is crispy good and flavorful.  The fortunes are thoughtful, not the shallow ones we are seeing lately.(Be patient, even in time an egg will walk)  I received the quantity and quality I ...</td>\n",
              "    </tr>\n",
              "    <tr>\n",
              "      <th>2997</th>\n",
              "      <td>2998</td>\n",
              "      <td>B0009JI7O8</td>\n",
              "      <td>A7XPFLQYVPZAT</td>\n",
              "      <td>Kim Voong</td>\n",
              "      <td>1</td>\n",
              "      <td>1</td>\n",
              "      <td>2</td>\n",
              "      <td>1334361600</td>\n",
              "      <td>they are soooo tiny!</td>\n",
              "      <td>I was expecting these cookies were going to be normal size but i was wrong!  i was planning on dipping them in chocolates but they r not those average size at all! So disappointed! I now have to g...</td>\n",
              "    </tr>\n",
              "    <tr>\n",
              "      <th>2998</th>\n",
              "      <td>2999</td>\n",
              "      <td>B0009JI7O8</td>\n",
              "      <td>A3ADANTR6G4LPB</td>\n",
              "      <td>Marjory Warrington</td>\n",
              "      <td>1</td>\n",
              "      <td>1</td>\n",
              "      <td>5</td>\n",
              "      <td>1323129600</td>\n",
              "      <td>Excellent service and product</td>\n",
              "      <td>I ordered these fortune cookies as rewards for my students each time they passed a multiplication test (to go along with the theme \"Fortunately we know our math facts\").  The majority of the cooki...</td>\n",
              "    </tr>\n",
              "    <tr>\n",
              "      <th>2999</th>\n",
              "      <td>3000</td>\n",
              "      <td>B0009JI7O8</td>\n",
              "      <td>AKHNCFO09GOG7</td>\n",
              "      <td>Dicey</td>\n",
              "      <td>2</td>\n",
              "      <td>3</td>\n",
              "      <td>1</td>\n",
              "      <td>1324857600</td>\n",
              "      <td>boring boring boring</td>\n",
              "      <td>Reading in earlier reviews that these were genuine chinese fortunes, I served them with a chinese Christmas dinner and was greatly disappointed, as were my guests.  Three sample fortunes are:  \"Li...</td>\n",
              "    </tr>\n",
              "  </tbody>\n",
              "</table>\n",
              "<p>3000 rows × 10 columns</p>\n",
              "</div>\n",
              "      <button class=\"colab-df-convert\" onclick=\"convertToInteractive('df-6c8c41e8-4e99-43f9-9150-49e20f465ff1')\"\n",
              "              title=\"Convert this dataframe to an interactive table.\"\n",
              "              style=\"display:none;\">\n",
              "\n",
              "  <svg xmlns=\"http://www.w3.org/2000/svg\" height=\"24px\"viewBox=\"0 0 24 24\"\n",
              "       width=\"24px\">\n",
              "    <path d=\"M0 0h24v24H0V0z\" fill=\"none\"/>\n",
              "    <path d=\"M18.56 5.44l.94 2.06.94-2.06 2.06-.94-2.06-.94-.94-2.06-.94 2.06-2.06.94zm-11 1L8.5 8.5l.94-2.06 2.06-.94-2.06-.94L8.5 2.5l-.94 2.06-2.06.94zm10 10l.94 2.06.94-2.06 2.06-.94-2.06-.94-.94-2.06-.94 2.06-2.06.94z\"/><path d=\"M17.41 7.96l-1.37-1.37c-.4-.4-.92-.59-1.43-.59-.52 0-1.04.2-1.43.59L10.3 9.45l-7.72 7.72c-.78.78-.78 2.05 0 2.83L4 21.41c.39.39.9.59 1.41.59.51 0 1.02-.2 1.41-.59l7.78-7.78 2.81-2.81c.8-.78.8-2.07 0-2.86zM5.41 20L4 18.59l7.72-7.72 1.47 1.35L5.41 20z\"/>\n",
              "  </svg>\n",
              "      </button>\n",
              "\n",
              "\n",
              "\n",
              "    <div id=\"df-f1f6173f-4b47-4dee-9c78-434a07a18820\">\n",
              "      <button class=\"colab-df-quickchart\" onclick=\"quickchart('df-f1f6173f-4b47-4dee-9c78-434a07a18820')\"\n",
              "              title=\"Suggest charts.\"\n",
              "              style=\"display:none;\">\n",
              "\n",
              "<svg xmlns=\"http://www.w3.org/2000/svg\" height=\"24px\"viewBox=\"0 0 24 24\"\n",
              "     width=\"24px\">\n",
              "    <g>\n",
              "        <path d=\"M19 3H5c-1.1 0-2 .9-2 2v14c0 1.1.9 2 2 2h14c1.1 0 2-.9 2-2V5c0-1.1-.9-2-2-2zM9 17H7v-7h2v7zm4 0h-2V7h2v10zm4 0h-2v-4h2v4z\"/>\n",
              "    </g>\n",
              "</svg>\n",
              "      </button>\n",
              "    </div>\n",
              "\n",
              "<style>\n",
              "  .colab-df-quickchart {\n",
              "    background-color: #E8F0FE;\n",
              "    border: none;\n",
              "    border-radius: 50%;\n",
              "    cursor: pointer;\n",
              "    display: none;\n",
              "    fill: #1967D2;\n",
              "    height: 32px;\n",
              "    padding: 0 0 0 0;\n",
              "    width: 32px;\n",
              "  }\n",
              "\n",
              "  .colab-df-quickchart:hover {\n",
              "    background-color: #E2EBFA;\n",
              "    box-shadow: 0px 1px 2px rgba(60, 64, 67, 0.3), 0px 1px 3px 1px rgba(60, 64, 67, 0.15);\n",
              "    fill: #174EA6;\n",
              "  }\n",
              "\n",
              "  [theme=dark] .colab-df-quickchart {\n",
              "    background-color: #3B4455;\n",
              "    fill: #D2E3FC;\n",
              "  }\n",
              "\n",
              "  [theme=dark] .colab-df-quickchart:hover {\n",
              "    background-color: #434B5C;\n",
              "    box-shadow: 0px 1px 3px 1px rgba(0, 0, 0, 0.15);\n",
              "    filter: drop-shadow(0px 1px 2px rgba(0, 0, 0, 0.3));\n",
              "    fill: #FFFFFF;\n",
              "  }\n",
              "</style>\n",
              "\n",
              "    <script>\n",
              "      async function quickchart(key) {\n",
              "        const containerElement = document.querySelector('#' + key);\n",
              "        const charts = await google.colab.kernel.invokeFunction(\n",
              "            'suggestCharts', [key], {});\n",
              "      }\n",
              "    </script>\n",
              "\n",
              "      <script>\n",
              "\n",
              "function displayQuickchartButton(domScope) {\n",
              "  let quickchartButtonEl =\n",
              "    domScope.querySelector('#df-f1f6173f-4b47-4dee-9c78-434a07a18820 button.colab-df-quickchart');\n",
              "  quickchartButtonEl.style.display =\n",
              "    google.colab.kernel.accessAllowed ? 'block' : 'none';\n",
              "}\n",
              "\n",
              "        displayQuickchartButton(document);\n",
              "      </script>\n",
              "      <style>\n",
              "    .colab-df-container {\n",
              "      display:flex;\n",
              "      flex-wrap:wrap;\n",
              "      gap: 12px;\n",
              "    }\n",
              "\n",
              "    .colab-df-convert {\n",
              "      background-color: #E8F0FE;\n",
              "      border: none;\n",
              "      border-radius: 50%;\n",
              "      cursor: pointer;\n",
              "      display: none;\n",
              "      fill: #1967D2;\n",
              "      height: 32px;\n",
              "      padding: 0 0 0 0;\n",
              "      width: 32px;\n",
              "    }\n",
              "\n",
              "    .colab-df-convert:hover {\n",
              "      background-color: #E2EBFA;\n",
              "      box-shadow: 0px 1px 2px rgba(60, 64, 67, 0.3), 0px 1px 3px 1px rgba(60, 64, 67, 0.15);\n",
              "      fill: #174EA6;\n",
              "    }\n",
              "\n",
              "    [theme=dark] .colab-df-convert {\n",
              "      background-color: #3B4455;\n",
              "      fill: #D2E3FC;\n",
              "    }\n",
              "\n",
              "    [theme=dark] .colab-df-convert:hover {\n",
              "      background-color: #434B5C;\n",
              "      box-shadow: 0px 1px 3px 1px rgba(0, 0, 0, 0.15);\n",
              "      filter: drop-shadow(0px 1px 2px rgba(0, 0, 0, 0.3));\n",
              "      fill: #FFFFFF;\n",
              "    }\n",
              "  </style>\n",
              "\n",
              "      <script>\n",
              "        const buttonEl =\n",
              "          document.querySelector('#df-6c8c41e8-4e99-43f9-9150-49e20f465ff1 button.colab-df-convert');\n",
              "        buttonEl.style.display =\n",
              "          google.colab.kernel.accessAllowed ? 'block' : 'none';\n",
              "\n",
              "        async function convertToInteractive(key) {\n",
              "          const element = document.querySelector('#df-6c8c41e8-4e99-43f9-9150-49e20f465ff1');\n",
              "          const dataTable =\n",
              "            await google.colab.kernel.invokeFunction('convertToInteractive',\n",
              "                                                     [key], {});\n",
              "          if (!dataTable) return;\n",
              "\n",
              "          const docLinkHtml = 'Like what you see? Visit the ' +\n",
              "            '<a target=\"_blank\" href=https://colab.research.google.com/notebooks/data_table.ipynb>data table notebook</a>'\n",
              "            + ' to learn more about interactive tables.';\n",
              "          element.innerHTML = '';\n",
              "          dataTable['output_type'] = 'display_data';\n",
              "          await google.colab.output.renderOutput(dataTable, element);\n",
              "          const docLink = document.createElement('div');\n",
              "          docLink.innerHTML = docLinkHtml;\n",
              "          element.appendChild(docLink);\n",
              "        }\n",
              "      </script>\n",
              "    </div>\n",
              "  </div>\n"
            ]
          },
          "metadata": {},
          "execution_count": 3
        }
      ],
      "source": [
        "data=pd.read_csv(\"Reviews.csv\",nrows=3000)\n",
        "data"
      ]
    },
    {
      "cell_type": "code",
      "execution_count": 4,
      "id": "22808a17",
      "metadata": {
        "colab": {
          "base_uri": "https://localhost:8080/",
          "height": 1000
        },
        "id": "22808a17",
        "outputId": "055936f8-3152-4cf9-e34d-345f472581bf"
      },
      "outputs": [
        {
          "output_type": "execute_result",
          "data": {
            "text/plain": [
              "        Id   ProductId          UserId                      ProfileName  \\\n",
              "0        1  B001E4KFG0  A3SGXH7AUHU8GW                       delmartian   \n",
              "1        2  B00813GRG4  A1D87F6ZCVE5NK                           dll pa   \n",
              "2        3  B000LQOCH0   ABXLMWJIXXAIN  Natalia Corres \"Natalia Corres\"   \n",
              "3        4  B000UA0QIQ  A395BORC6FGVXV                             Karl   \n",
              "4        5  B006K2ZZ7K  A1UQRSCLF8GW1T    Michael D. Bigham \"M. Wassir\"   \n",
              "...    ...         ...             ...                              ...   \n",
              "2995  2996  B0009JI7O8  A3KLEQQVY1I46S                           Spence   \n",
              "2996  2997  B0009JI7O8  A1WXEIP21U01ME                            zazza   \n",
              "2997  2998  B0009JI7O8   A7XPFLQYVPZAT                        Kim Voong   \n",
              "2998  2999  B0009JI7O8  A3ADANTR6G4LPB               Marjory Warrington   \n",
              "2999  3000  B0009JI7O8   AKHNCFO09GOG7                            Dicey   \n",
              "\n",
              "      HelpfulnessNumerator  HelpfulnessDenominator  Score        Time  \\\n",
              "0                        1                       1      5  1303862400   \n",
              "1                        0                       0      1  1346976000   \n",
              "2                        1                       1      4  1219017600   \n",
              "3                        3                       3      2  1307923200   \n",
              "4                        0                       0      5  1350777600   \n",
              "...                    ...                     ...    ...         ...   \n",
              "2995                     2                       2      4  1344297600   \n",
              "2996                     4                       5      5  1297900800   \n",
              "2997                     1                       1      2  1334361600   \n",
              "2998                     1                       1      5  1323129600   \n",
              "2999                     2                       3      1  1324857600   \n",
              "\n",
              "                            Summary  \\\n",
              "0             Good Quality Dog Food   \n",
              "1                 Not as Advertised   \n",
              "2             \"Delight\" says it all   \n",
              "3                    Cough Medicine   \n",
              "4                       Great taffy   \n",
              "...                             ...   \n",
              "2995              Color Discrepancy   \n",
              "2996                   crispy fresh   \n",
              "2997           they are soooo tiny!   \n",
              "2998  Excellent service and product   \n",
              "2999           boring boring boring   \n",
              "\n",
              "                                                                                                                                                                                                         Text  \n",
              "0     I have bought several of the Vitality canned dog food products and have found them all to be of good quality. The product looks more like a stew than a processed meat and it smells better. My Labr...  \n",
              "1              Product arrived labeled as Jumbo Salted Peanuts...the peanuts were actually small sized unsalted. Not sure if this was an error or if the vendor intended to represent the product as \"Jumbo\".  \n",
              "2     This is a confection that has been around a few centuries.  It is a light, pillowy citrus gelatin with nuts - in this case Filberts. And it is cut into tiny squares and then liberally coated with ...  \n",
              "3     If you are looking for the secret ingredient in Robitussin I believe I have found it.  I got this in addition to the Root Beer Extract I ordered (which was good) and made some cherry soda.  The fl...  \n",
              "4                                                                Great taffy at a great price.  There was a wide assortment of yummy taffy.  Delivery was very quick.  If your a taffy lover, this is a deal.  \n",
              "...                                                                                                                                                                                                       ...  \n",
              "2995  My primary reason for ordering, was the picture had shown the cookies as green. I will acknowledge that the \"Important Information\" heading listed a warning that the actual product may be differen...  \n",
              "2996  The cookie is crispy good and flavorful.  The fortunes are thoughtful, not the shallow ones we are seeing lately.(Be patient, even in time an egg will walk)  I received the quantity and quality I ...  \n",
              "2997  I was expecting these cookies were going to be normal size but i was wrong!  i was planning on dipping them in chocolates but they r not those average size at all! So disappointed! I now have to g...  \n",
              "2998  I ordered these fortune cookies as rewards for my students each time they passed a multiplication test (to go along with the theme \"Fortunately we know our math facts\").  The majority of the cooki...  \n",
              "2999  Reading in earlier reviews that these were genuine chinese fortunes, I served them with a chinese Christmas dinner and was greatly disappointed, as were my guests.  Three sample fortunes are:  \"Li...  \n",
              "\n",
              "[2989 rows x 10 columns]"
            ],
            "text/html": [
              "\n",
              "\n",
              "  <div id=\"df-eaaf96fe-1966-4ed9-b00a-8e556c939a31\">\n",
              "    <div class=\"colab-df-container\">\n",
              "      <div>\n",
              "<style scoped>\n",
              "    .dataframe tbody tr th:only-of-type {\n",
              "        vertical-align: middle;\n",
              "    }\n",
              "\n",
              "    .dataframe tbody tr th {\n",
              "        vertical-align: top;\n",
              "    }\n",
              "\n",
              "    .dataframe thead th {\n",
              "        text-align: right;\n",
              "    }\n",
              "</style>\n",
              "<table border=\"1\" class=\"dataframe\">\n",
              "  <thead>\n",
              "    <tr style=\"text-align: right;\">\n",
              "      <th></th>\n",
              "      <th>Id</th>\n",
              "      <th>ProductId</th>\n",
              "      <th>UserId</th>\n",
              "      <th>ProfileName</th>\n",
              "      <th>HelpfulnessNumerator</th>\n",
              "      <th>HelpfulnessDenominator</th>\n",
              "      <th>Score</th>\n",
              "      <th>Time</th>\n",
              "      <th>Summary</th>\n",
              "      <th>Text</th>\n",
              "    </tr>\n",
              "  </thead>\n",
              "  <tbody>\n",
              "    <tr>\n",
              "      <th>0</th>\n",
              "      <td>1</td>\n",
              "      <td>B001E4KFG0</td>\n",
              "      <td>A3SGXH7AUHU8GW</td>\n",
              "      <td>delmartian</td>\n",
              "      <td>1</td>\n",
              "      <td>1</td>\n",
              "      <td>5</td>\n",
              "      <td>1303862400</td>\n",
              "      <td>Good Quality Dog Food</td>\n",
              "      <td>I have bought several of the Vitality canned dog food products and have found them all to be of good quality. The product looks more like a stew than a processed meat and it smells better. My Labr...</td>\n",
              "    </tr>\n",
              "    <tr>\n",
              "      <th>1</th>\n",
              "      <td>2</td>\n",
              "      <td>B00813GRG4</td>\n",
              "      <td>A1D87F6ZCVE5NK</td>\n",
              "      <td>dll pa</td>\n",
              "      <td>0</td>\n",
              "      <td>0</td>\n",
              "      <td>1</td>\n",
              "      <td>1346976000</td>\n",
              "      <td>Not as Advertised</td>\n",
              "      <td>Product arrived labeled as Jumbo Salted Peanuts...the peanuts were actually small sized unsalted. Not sure if this was an error or if the vendor intended to represent the product as \"Jumbo\".</td>\n",
              "    </tr>\n",
              "    <tr>\n",
              "      <th>2</th>\n",
              "      <td>3</td>\n",
              "      <td>B000LQOCH0</td>\n",
              "      <td>ABXLMWJIXXAIN</td>\n",
              "      <td>Natalia Corres \"Natalia Corres\"</td>\n",
              "      <td>1</td>\n",
              "      <td>1</td>\n",
              "      <td>4</td>\n",
              "      <td>1219017600</td>\n",
              "      <td>\"Delight\" says it all</td>\n",
              "      <td>This is a confection that has been around a few centuries.  It is a light, pillowy citrus gelatin with nuts - in this case Filberts. And it is cut into tiny squares and then liberally coated with ...</td>\n",
              "    </tr>\n",
              "    <tr>\n",
              "      <th>3</th>\n",
              "      <td>4</td>\n",
              "      <td>B000UA0QIQ</td>\n",
              "      <td>A395BORC6FGVXV</td>\n",
              "      <td>Karl</td>\n",
              "      <td>3</td>\n",
              "      <td>3</td>\n",
              "      <td>2</td>\n",
              "      <td>1307923200</td>\n",
              "      <td>Cough Medicine</td>\n",
              "      <td>If you are looking for the secret ingredient in Robitussin I believe I have found it.  I got this in addition to the Root Beer Extract I ordered (which was good) and made some cherry soda.  The fl...</td>\n",
              "    </tr>\n",
              "    <tr>\n",
              "      <th>4</th>\n",
              "      <td>5</td>\n",
              "      <td>B006K2ZZ7K</td>\n",
              "      <td>A1UQRSCLF8GW1T</td>\n",
              "      <td>Michael D. Bigham \"M. Wassir\"</td>\n",
              "      <td>0</td>\n",
              "      <td>0</td>\n",
              "      <td>5</td>\n",
              "      <td>1350777600</td>\n",
              "      <td>Great taffy</td>\n",
              "      <td>Great taffy at a great price.  There was a wide assortment of yummy taffy.  Delivery was very quick.  If your a taffy lover, this is a deal.</td>\n",
              "    </tr>\n",
              "    <tr>\n",
              "      <th>...</th>\n",
              "      <td>...</td>\n",
              "      <td>...</td>\n",
              "      <td>...</td>\n",
              "      <td>...</td>\n",
              "      <td>...</td>\n",
              "      <td>...</td>\n",
              "      <td>...</td>\n",
              "      <td>...</td>\n",
              "      <td>...</td>\n",
              "      <td>...</td>\n",
              "    </tr>\n",
              "    <tr>\n",
              "      <th>2995</th>\n",
              "      <td>2996</td>\n",
              "      <td>B0009JI7O8</td>\n",
              "      <td>A3KLEQQVY1I46S</td>\n",
              "      <td>Spence</td>\n",
              "      <td>2</td>\n",
              "      <td>2</td>\n",
              "      <td>4</td>\n",
              "      <td>1344297600</td>\n",
              "      <td>Color Discrepancy</td>\n",
              "      <td>My primary reason for ordering, was the picture had shown the cookies as green. I will acknowledge that the \"Important Information\" heading listed a warning that the actual product may be differen...</td>\n",
              "    </tr>\n",
              "    <tr>\n",
              "      <th>2996</th>\n",
              "      <td>2997</td>\n",
              "      <td>B0009JI7O8</td>\n",
              "      <td>A1WXEIP21U01ME</td>\n",
              "      <td>zazza</td>\n",
              "      <td>4</td>\n",
              "      <td>5</td>\n",
              "      <td>5</td>\n",
              "      <td>1297900800</td>\n",
              "      <td>crispy fresh</td>\n",
              "      <td>The cookie is crispy good and flavorful.  The fortunes are thoughtful, not the shallow ones we are seeing lately.(Be patient, even in time an egg will walk)  I received the quantity and quality I ...</td>\n",
              "    </tr>\n",
              "    <tr>\n",
              "      <th>2997</th>\n",
              "      <td>2998</td>\n",
              "      <td>B0009JI7O8</td>\n",
              "      <td>A7XPFLQYVPZAT</td>\n",
              "      <td>Kim Voong</td>\n",
              "      <td>1</td>\n",
              "      <td>1</td>\n",
              "      <td>2</td>\n",
              "      <td>1334361600</td>\n",
              "      <td>they are soooo tiny!</td>\n",
              "      <td>I was expecting these cookies were going to be normal size but i was wrong!  i was planning on dipping them in chocolates but they r not those average size at all! So disappointed! I now have to g...</td>\n",
              "    </tr>\n",
              "    <tr>\n",
              "      <th>2998</th>\n",
              "      <td>2999</td>\n",
              "      <td>B0009JI7O8</td>\n",
              "      <td>A3ADANTR6G4LPB</td>\n",
              "      <td>Marjory Warrington</td>\n",
              "      <td>1</td>\n",
              "      <td>1</td>\n",
              "      <td>5</td>\n",
              "      <td>1323129600</td>\n",
              "      <td>Excellent service and product</td>\n",
              "      <td>I ordered these fortune cookies as rewards for my students each time they passed a multiplication test (to go along with the theme \"Fortunately we know our math facts\").  The majority of the cooki...</td>\n",
              "    </tr>\n",
              "    <tr>\n",
              "      <th>2999</th>\n",
              "      <td>3000</td>\n",
              "      <td>B0009JI7O8</td>\n",
              "      <td>AKHNCFO09GOG7</td>\n",
              "      <td>Dicey</td>\n",
              "      <td>2</td>\n",
              "      <td>3</td>\n",
              "      <td>1</td>\n",
              "      <td>1324857600</td>\n",
              "      <td>boring boring boring</td>\n",
              "      <td>Reading in earlier reviews that these were genuine chinese fortunes, I served them with a chinese Christmas dinner and was greatly disappointed, as were my guests.  Three sample fortunes are:  \"Li...</td>\n",
              "    </tr>\n",
              "  </tbody>\n",
              "</table>\n",
              "<p>2989 rows × 10 columns</p>\n",
              "</div>\n",
              "      <button class=\"colab-df-convert\" onclick=\"convertToInteractive('df-eaaf96fe-1966-4ed9-b00a-8e556c939a31')\"\n",
              "              title=\"Convert this dataframe to an interactive table.\"\n",
              "              style=\"display:none;\">\n",
              "\n",
              "  <svg xmlns=\"http://www.w3.org/2000/svg\" height=\"24px\"viewBox=\"0 0 24 24\"\n",
              "       width=\"24px\">\n",
              "    <path d=\"M0 0h24v24H0V0z\" fill=\"none\"/>\n",
              "    <path d=\"M18.56 5.44l.94 2.06.94-2.06 2.06-.94-2.06-.94-.94-2.06-.94 2.06-2.06.94zm-11 1L8.5 8.5l.94-2.06 2.06-.94-2.06-.94L8.5 2.5l-.94 2.06-2.06.94zm10 10l.94 2.06.94-2.06 2.06-.94-2.06-.94-.94-2.06-.94 2.06-2.06.94z\"/><path d=\"M17.41 7.96l-1.37-1.37c-.4-.4-.92-.59-1.43-.59-.52 0-1.04.2-1.43.59L10.3 9.45l-7.72 7.72c-.78.78-.78 2.05 0 2.83L4 21.41c.39.39.9.59 1.41.59.51 0 1.02-.2 1.41-.59l7.78-7.78 2.81-2.81c.8-.78.8-2.07 0-2.86zM5.41 20L4 18.59l7.72-7.72 1.47 1.35L5.41 20z\"/>\n",
              "  </svg>\n",
              "      </button>\n",
              "\n",
              "\n",
              "\n",
              "    <div id=\"df-a0412b8d-d4ca-4fbe-84f5-b04cc29122d9\">\n",
              "      <button class=\"colab-df-quickchart\" onclick=\"quickchart('df-a0412b8d-d4ca-4fbe-84f5-b04cc29122d9')\"\n",
              "              title=\"Suggest charts.\"\n",
              "              style=\"display:none;\">\n",
              "\n",
              "<svg xmlns=\"http://www.w3.org/2000/svg\" height=\"24px\"viewBox=\"0 0 24 24\"\n",
              "     width=\"24px\">\n",
              "    <g>\n",
              "        <path d=\"M19 3H5c-1.1 0-2 .9-2 2v14c0 1.1.9 2 2 2h14c1.1 0 2-.9 2-2V5c0-1.1-.9-2-2-2zM9 17H7v-7h2v7zm4 0h-2V7h2v10zm4 0h-2v-4h2v4z\"/>\n",
              "    </g>\n",
              "</svg>\n",
              "      </button>\n",
              "    </div>\n",
              "\n",
              "<style>\n",
              "  .colab-df-quickchart {\n",
              "    background-color: #E8F0FE;\n",
              "    border: none;\n",
              "    border-radius: 50%;\n",
              "    cursor: pointer;\n",
              "    display: none;\n",
              "    fill: #1967D2;\n",
              "    height: 32px;\n",
              "    padding: 0 0 0 0;\n",
              "    width: 32px;\n",
              "  }\n",
              "\n",
              "  .colab-df-quickchart:hover {\n",
              "    background-color: #E2EBFA;\n",
              "    box-shadow: 0px 1px 2px rgba(60, 64, 67, 0.3), 0px 1px 3px 1px rgba(60, 64, 67, 0.15);\n",
              "    fill: #174EA6;\n",
              "  }\n",
              "\n",
              "  [theme=dark] .colab-df-quickchart {\n",
              "    background-color: #3B4455;\n",
              "    fill: #D2E3FC;\n",
              "  }\n",
              "\n",
              "  [theme=dark] .colab-df-quickchart:hover {\n",
              "    background-color: #434B5C;\n",
              "    box-shadow: 0px 1px 3px 1px rgba(0, 0, 0, 0.15);\n",
              "    filter: drop-shadow(0px 1px 2px rgba(0, 0, 0, 0.3));\n",
              "    fill: #FFFFFF;\n",
              "  }\n",
              "</style>\n",
              "\n",
              "    <script>\n",
              "      async function quickchart(key) {\n",
              "        const containerElement = document.querySelector('#' + key);\n",
              "        const charts = await google.colab.kernel.invokeFunction(\n",
              "            'suggestCharts', [key], {});\n",
              "      }\n",
              "    </script>\n",
              "\n",
              "      <script>\n",
              "\n",
              "function displayQuickchartButton(domScope) {\n",
              "  let quickchartButtonEl =\n",
              "    domScope.querySelector('#df-a0412b8d-d4ca-4fbe-84f5-b04cc29122d9 button.colab-df-quickchart');\n",
              "  quickchartButtonEl.style.display =\n",
              "    google.colab.kernel.accessAllowed ? 'block' : 'none';\n",
              "}\n",
              "\n",
              "        displayQuickchartButton(document);\n",
              "      </script>\n",
              "      <style>\n",
              "    .colab-df-container {\n",
              "      display:flex;\n",
              "      flex-wrap:wrap;\n",
              "      gap: 12px;\n",
              "    }\n",
              "\n",
              "    .colab-df-convert {\n",
              "      background-color: #E8F0FE;\n",
              "      border: none;\n",
              "      border-radius: 50%;\n",
              "      cursor: pointer;\n",
              "      display: none;\n",
              "      fill: #1967D2;\n",
              "      height: 32px;\n",
              "      padding: 0 0 0 0;\n",
              "      width: 32px;\n",
              "    }\n",
              "\n",
              "    .colab-df-convert:hover {\n",
              "      background-color: #E2EBFA;\n",
              "      box-shadow: 0px 1px 2px rgba(60, 64, 67, 0.3), 0px 1px 3px 1px rgba(60, 64, 67, 0.15);\n",
              "      fill: #174EA6;\n",
              "    }\n",
              "\n",
              "    [theme=dark] .colab-df-convert {\n",
              "      background-color: #3B4455;\n",
              "      fill: #D2E3FC;\n",
              "    }\n",
              "\n",
              "    [theme=dark] .colab-df-convert:hover {\n",
              "      background-color: #434B5C;\n",
              "      box-shadow: 0px 1px 3px 1px rgba(0, 0, 0, 0.15);\n",
              "      filter: drop-shadow(0px 1px 2px rgba(0, 0, 0, 0.3));\n",
              "      fill: #FFFFFF;\n",
              "    }\n",
              "  </style>\n",
              "\n",
              "      <script>\n",
              "        const buttonEl =\n",
              "          document.querySelector('#df-eaaf96fe-1966-4ed9-b00a-8e556c939a31 button.colab-df-convert');\n",
              "        buttonEl.style.display =\n",
              "          google.colab.kernel.accessAllowed ? 'block' : 'none';\n",
              "\n",
              "        async function convertToInteractive(key) {\n",
              "          const element = document.querySelector('#df-eaaf96fe-1966-4ed9-b00a-8e556c939a31');\n",
              "          const dataTable =\n",
              "            await google.colab.kernel.invokeFunction('convertToInteractive',\n",
              "                                                     [key], {});\n",
              "          if (!dataTable) return;\n",
              "\n",
              "          const docLinkHtml = 'Like what you see? Visit the ' +\n",
              "            '<a target=\"_blank\" href=https://colab.research.google.com/notebooks/data_table.ipynb>data table notebook</a>'\n",
              "            + ' to learn more about interactive tables.';\n",
              "          element.innerHTML = '';\n",
              "          dataTable['output_type'] = 'display_data';\n",
              "          await google.colab.output.renderOutput(dataTable, element);\n",
              "          const docLink = document.createElement('div');\n",
              "          docLink.innerHTML = docLinkHtml;\n",
              "          element.appendChild(docLink);\n",
              "        }\n",
              "      </script>\n",
              "    </div>\n",
              "  </div>\n"
            ]
          },
          "metadata": {},
          "execution_count": 4
        }
      ],
      "source": [
        "data.drop_duplicates(subset=['Text'],inplace=True)  #dropping duplicates\n",
        "data.dropna(axis=0,inplace=True)   #dropping na\n",
        "data"
      ]
    },
    {
      "cell_type": "markdown",
      "id": "72b88a13",
      "metadata": {
        "id": "72b88a13"
      },
      "source": [
        "Preprocessing\n",
        "\n",
        "Performing basic preprocessing steps is very important before we get to the model building part. Using messy and uncleaned\n",
        "text data is a potentially disastrous move. So in this step, we will drop all the unwanted symbols, characters, etc. from\n",
        "the text that do not affect the objective of our problem.\n",
        "\n",
        "Here is the dictionary that we will use for expanding the contractions:"
      ]
    },
    {
      "cell_type": "code",
      "execution_count": 5,
      "id": "30cf827e",
      "metadata": {
        "id": "30cf827e"
      },
      "outputs": [],
      "source": [
        "contraction_mapping = {\"ain't\": \"is not\", \"aren't\": \"are not\",\"can't\": \"cannot\", \"'cause\": \"because\", \"could've\": \"could have\", \"couldn't\": \"could not\",\n",
        "\n",
        "                           \"didn't\": \"did not\", \"doesn't\": \"does not\", \"don't\": \"do not\", \"hadn't\": \"had not\", \"hasn't\": \"has not\", \"haven't\": \"have not\",\n",
        "\n",
        "                           \"he'd\": \"he would\",\"he'll\": \"he will\", \"he's\": \"he is\", \"how'd\": \"how did\", \"how'd'y\": \"how do you\", \"how'll\": \"how will\", \"how's\": \"how is\",\n",
        "\n",
        "                           \"I'd\": \"I would\", \"I'd've\": \"I would have\", \"I'll\": \"I will\", \"I'll've\": \"I will have\",\"I'm\": \"I am\", \"I've\": \"I have\", \"i'd\": \"i would\",\n",
        "\n",
        "                           \"i'd've\": \"i would have\", \"i'll\": \"i will\",  \"i'll've\": \"i will have\",\"i'm\": \"i am\", \"i've\": \"i have\", \"isn't\": \"is not\", \"it'd\": \"it would\",\n",
        "\n",
        "                           \"it'd've\": \"it would have\", \"it'll\": \"it will\", \"it'll've\": \"it will have\",\"it's\": \"it is\", \"let's\": \"let us\", \"ma'am\": \"madam\",\n",
        "\n",
        "                           \"mayn't\": \"may not\", \"might've\": \"might have\",\"mightn't\": \"might not\",\"mightn't've\": \"might not have\", \"must've\": \"must have\",\n",
        "\n",
        "                           \"mustn't\": \"must not\", \"mustn't've\": \"must not have\", \"needn't\": \"need not\", \"needn't've\": \"need not have\",\"o'clock\": \"of the clock\",\n",
        "\n",
        "                           \"oughtn't\": \"ought not\", \"oughtn't've\": \"ought not have\", \"shan't\": \"shall not\", \"sha'n't\": \"shall not\", \"shan't've\": \"shall not have\",\n",
        "\n",
        "                           \"she'd\": \"she would\", \"she'd've\": \"she would have\", \"she'll\": \"she will\", \"she'll've\": \"she will have\", \"she's\": \"she is\",\n",
        "\n",
        "                           \"should've\": \"should have\", \"shouldn't\": \"should not\", \"shouldn't've\": \"should not have\", \"so've\": \"so have\",\"so's\": \"so as\",\n",
        "\n",
        "                           \"this's\": \"this is\",\"that'd\": \"that would\", \"that'd've\": \"that would have\", \"that's\": \"that is\", \"there'd\": \"there would\",\n",
        "\n",
        "                           \"there'd've\": \"there would have\", \"there's\": \"there is\", \"here's\": \"here is\",\"they'd\": \"they would\", \"they'd've\": \"they would have\",\n",
        "\n",
        "                           \"they'll\": \"they will\", \"they'll've\": \"they will have\", \"they're\": \"they are\", \"they've\": \"they have\", \"to've\": \"to have\",\n",
        "\n",
        "                           \"wasn't\": \"was not\", \"we'd\": \"we would\", \"we'd've\": \"we would have\", \"we'll\": \"we will\", \"we'll've\": \"we will have\", \"we're\": \"we are\",\n",
        "\n",
        "                           \"we've\": \"we have\", \"weren't\": \"were not\", \"what'll\": \"what will\", \"what'll've\": \"what will have\", \"what're\": \"what are\",\n",
        "\n",
        "                           \"what's\": \"what is\", \"what've\": \"what have\", \"when's\": \"when is\", \"when've\": \"when have\", \"where'd\": \"where did\", \"where's\": \"where is\",\n",
        "\n",
        "                           \"where've\": \"where have\", \"who'll\": \"who will\", \"who'll've\": \"who will have\", \"who's\": \"who is\", \"who've\": \"who have\",\n",
        "\n",
        "                           \"why's\": \"why is\", \"why've\": \"why have\", \"will've\": \"will have\", \"won't\": \"will not\", \"won't've\": \"will not have\",\n",
        "\n",
        "                           \"would've\": \"would have\", \"wouldn't\": \"would not\", \"wouldn't've\": \"would not have\", \"y'all\": \"you all\",\n",
        "\n",
        "                           \"y'all'd\": \"you all would\",\"y'all'd've\": \"you all would have\",\"y'all're\": \"you all are\",\"y'all've\": \"you all have\",\n",
        "\n",
        "                           \"you'd\": \"you would\", \"you'd've\": \"you would have\", \"you'll\": \"you will\", \"you'll've\": \"you will have\",\n",
        "\n",
        "                           \"you're\": \"you are\", \"you've\": \"you have\"}"
      ]
    },
    {
      "cell_type": "markdown",
      "id": "8b855a0f",
      "metadata": {
        "id": "8b855a0f"
      },
      "source": [
        "a) Text Cleaning\n",
        "\n",
        "Let’s look at the first 10 reviews in our dataset to get an idea of the text preprocessing steps:"
      ]
    },
    {
      "cell_type": "code",
      "execution_count": 6,
      "id": "48500f7f",
      "metadata": {
        "colab": {
          "base_uri": "https://localhost:8080/"
        },
        "id": "48500f7f",
        "outputId": "782f6de9-0dec-45ff-d05a-86524d9747f6"
      },
      "outputs": [
        {
          "output_type": "execute_result",
          "data": {
            "text/plain": [
              "0    I have bought several of the Vitality canned dog food products and have found them all to be of good quality. The product looks more like a stew than a processed meat and it smells better. My Labr...\n",
              "1             Product arrived labeled as Jumbo Salted Peanuts...the peanuts were actually small sized unsalted. Not sure if this was an error or if the vendor intended to represent the product as \"Jumbo\".\n",
              "2    This is a confection that has been around a few centuries.  It is a light, pillowy citrus gelatin with nuts - in this case Filberts. And it is cut into tiny squares and then liberally coated with ...\n",
              "3    If you are looking for the secret ingredient in Robitussin I believe I have found it.  I got this in addition to the Root Beer Extract I ordered (which was good) and made some cherry soda.  The fl...\n",
              "4                                                               Great taffy at a great price.  There was a wide assortment of yummy taffy.  Delivery was very quick.  If your a taffy lover, this is a deal.\n",
              "5    I got a wild hair for taffy and ordered this five pound bag. The taffy was all very enjoyable with many flavors: watermelon, root beer, melon, peppermint, grape, etc. My only complaint is there wa...\n",
              "6    This saltwater taffy had great flavors and was very soft and chewy.  Each candy was individually wrapped well.  None of the candies were stuck together, which did happen in the expensive version, ...\n",
              "7                                                               This taffy is so good.  It is very soft and chewy.  The flavors are amazing.  I would definitely recommend you buying it.  Very satisfying!!\n",
              "8                                                                        Right now I'm mostly just sprouting this so my cats can eat the grass. They love it. I rotate it around with Wheatgrass and Rye too\n",
              "9                                                                  This is a very healthy dog food. Good for their digestion. Also good for small puppies. My dog eats her required amount at every feeding.\n",
              "Name: Text, dtype: object"
            ]
          },
          "metadata": {},
          "execution_count": 6
        }
      ],
      "source": [
        "data['Text'][:10]\n"
      ]
    },
    {
      "cell_type": "markdown",
      "id": "d6f2e1dc",
      "metadata": {
        "id": "d6f2e1dc"
      },
      "source": [
        "#\n",
        "\n",
        "\n",
        "\n",
        "\n",
        "\n",
        "\n",
        "#\n",
        "\n",
        "\n",
        "We will perform the below preprocessing tasks for our data:\n",
        "\n",
        "Convert everything to lowercase\n",
        "\n",
        "Remove HTML tags\n",
        "\n",
        "Contraction mapping\n",
        "\n",
        "Remove (‘s)\n",
        "\n",
        "Remove any text inside the parenthesis ( )\n",
        "\n",
        "Eliminate punctuations and special characters\n",
        "\n",
        "Remove stopwords\n",
        "\n",
        "Remove short words"
      ]
    },
    {
      "cell_type": "code",
      "execution_count": 7,
      "id": "b31ed8bd",
      "metadata": {
        "id": "b31ed8bd"
      },
      "outputs": [],
      "source": [
        "stop_words = set(stopwords.words('english'))\n",
        "def text_cleaner(text):\n",
        "    newString = text.lower()\n",
        "    newString = BeautifulSoup(newString, \"lxml\").text\n",
        "    newString = re.sub(r'\\([^)]*\\)', '', newString)\n",
        "    newString = re.sub('\"','', newString)\n",
        "    newString = ' '.join([contraction_mapping[t] if t in contraction_mapping else t for t in newString.split(\" \")])\n",
        "    newString = re.sub(r\"'s\\b\",\"\",newString)\n",
        "    newString = re.sub(\"[^a-zA-Z]\", \" \", newString)\n",
        "    tokens = [w for w in newString.split() if not w in stop_words]\n",
        "    long_words=[]\n",
        "    for i in tokens:\n",
        "        if len(i)>=3:                  #removing short word\n",
        "            long_words.append(i)\n",
        "    return (\" \".join(long_words)).strip()\n",
        "\n",
        "cleaned_text = []\n",
        "for t in data['Text']:\n",
        "    cleaned_text.append(text_cleaner(t))"
      ]
    },
    {
      "cell_type": "markdown",
      "id": "c48fefd7",
      "metadata": {
        "id": "c48fefd7"
      },
      "source": [
        "b) Summary Cleaning\n",
        "\n",
        "\n",
        "And now we’ll look at the first 10 rows of the reviews to an idea of the preprocessing steps for the summary column:"
      ]
    },
    {
      "cell_type": "code",
      "execution_count": 8,
      "id": "77d6a7cf",
      "metadata": {
        "colab": {
          "base_uri": "https://localhost:8080/"
        },
        "id": "77d6a7cf",
        "outputId": "49b1208b-7fc0-46fa-a532-2e6c4e614686"
      },
      "outputs": [
        {
          "output_type": "execute_result",
          "data": {
            "text/plain": [
              "0                            Good Quality Dog Food\n",
              "1                                Not as Advertised\n",
              "2                            \"Delight\" says it all\n",
              "3                                   Cough Medicine\n",
              "4                                      Great taffy\n",
              "5                                       Nice Taffy\n",
              "6    Great!  Just as good as the expensive brands!\n",
              "7                           Wonderful, tasty taffy\n",
              "8                                       Yay Barley\n",
              "9                                 Healthy Dog Food\n",
              "Name: Summary, dtype: object"
            ]
          },
          "metadata": {},
          "execution_count": 8
        }
      ],
      "source": [
        "data['Summary'][:10]\n"
      ]
    },
    {
      "cell_type": "markdown",
      "id": "9ae0cc43",
      "metadata": {
        "id": "9ae0cc43"
      },
      "source": [
        "#\n",
        "\n",
        "\n",
        "\n",
        "\n",
        "\n",
        "Define the function for this task:"
      ]
    },
    {
      "cell_type": "code",
      "execution_count": 9,
      "id": "eecbab8d",
      "metadata": {
        "id": "eecbab8d"
      },
      "outputs": [],
      "source": [
        "def summary_cleaner(text):\n",
        "    newString = re.sub('\"','', text)\n",
        "    newString = ' '.join([contraction_mapping[t] if t in contraction_mapping else t for t in newString.split(\" \")])\n",
        "    newString = re.sub(r\"'s\\b\",\"\",newString)\n",
        "    newString = re.sub(\"[^a-zA-Z]\", \" \", newString)\n",
        "    newString = newString.lower()\n",
        "    tokens=newString.split()\n",
        "    newString=''\n",
        "    for i in tokens:\n",
        "        if len(i)>1:\n",
        "            newString=newString+i+' '\n",
        "    return newString\n",
        "\n",
        "#Call the above function\n",
        "cleaned_summary = []\n",
        "for t in data['Summary']:\n",
        "    cleaned_summary.append(summary_cleaner(t))\n",
        "\n",
        "data['cleaned_text']=cleaned_text\n",
        "data['cleaned_summary']=cleaned_summary\n",
        "data['cleaned_summary'].replace('', np.nan, inplace=True)\n",
        "data.dropna(axis=0,inplace=True)"
      ]
    },
    {
      "cell_type": "markdown",
      "id": "3f20c24c",
      "metadata": {
        "id": "3f20c24c"
      },
      "source": [
        "Remember to add the START and END special tokens at the beginning and end of the summary:"
      ]
    },
    {
      "cell_type": "code",
      "execution_count": 10,
      "id": "69b6dae1",
      "metadata": {
        "id": "69b6dae1"
      },
      "outputs": [],
      "source": [
        "data['cleaned_summary'] = data['cleaned_summary'].apply(lambda x : '_START_ '+ x + ' _END_')"
      ]
    },
    {
      "cell_type": "code",
      "execution_count": 11,
      "id": "5a78cd52",
      "metadata": {
        "colab": {
          "base_uri": "https://localhost:8080/"
        },
        "id": "5a78cd52",
        "outputId": "af650407-3d14-4207-f401-50f64e032071"
      },
      "outputs": [
        {
          "output_type": "stream",
          "name": "stdout",
          "text": [
            "Review: bought several vitality canned dog food products found good quality product looks like stew processed meat smells better labrador finicky appreciates product better\n",
            "Summary: _START_ good quality dog food  _END_\n",
            "\n",
            "\n",
            "Review: product arrived labeled jumbo salted peanuts peanuts actually small sized unsalted sure error vendor intended represent product jumbo\n",
            "Summary: _START_ not as advertised  _END_\n",
            "\n",
            "\n",
            "Review: confection around centuries light pillowy citrus gelatin nuts case filberts cut tiny squares liberally coated powdered sugar tiny mouthful heaven chewy flavorful highly recommend yummy treat familiar story lewis lion witch wardrobe treat seduces edmund selling brother sisters witch\n",
            "Summary: _START_ delight says it all  _END_\n",
            "\n",
            "\n",
            "Review: looking secret ingredient robitussin believe found got addition root beer extract ordered made cherry soda flavor medicinal\n",
            "Summary: _START_ cough medicine  _END_\n",
            "\n",
            "\n",
            "Review: great taffy great price wide assortment yummy taffy delivery quick taffy lover deal\n",
            "Summary: _START_ great taffy  _END_\n",
            "\n",
            "\n"
          ]
        }
      ],
      "source": [
        "\n",
        "for i in range(5):\n",
        "    print(\"Review:\",data['cleaned_text'][i])\n",
        "    print(\"Summary:\",data['cleaned_summary'][i])\n",
        "    print(\"\\n\")"
      ]
    },
    {
      "cell_type": "markdown",
      "id": "68432898",
      "metadata": {
        "id": "68432898"
      },
      "source": [
        "#\n",
        "\n",
        "\n",
        "\n",
        "\n",
        "Understanding the distribution of the sequences\n",
        "\n",
        "Here, we will analyze the length of the reviews and the summary to get an overall idea about the distribution of length of the text. This will help us fix the maximum length of the sequence:"
      ]
    },
    {
      "cell_type": "code",
      "execution_count": 12,
      "id": "1da2d780",
      "metadata": {
        "colab": {
          "base_uri": "https://localhost:8080/",
          "height": 452
        },
        "id": "1da2d780",
        "outputId": "7108c965-0c17-498f-ce29-d7a8d144b243"
      },
      "outputs": [
        {
          "output_type": "display_data",
          "data": {
            "text/plain": [
              "<Figure size 640x480 with 2 Axes>"
            ],
            "image/png": "[encoded data removed]"
          },
          "metadata": {}
        }
      ],
      "source": [
        "import matplotlib.pyplot as plt\n",
        "text_word_count = []\n",
        "summary_word_count = []\n",
        "\n",
        "# populate the lists with sentence lengths\n",
        "for i in data['cleaned_text']:\n",
        "      text_word_count.append(len(i.split()))\n",
        "\n",
        "for i in data['cleaned_summary']:\n",
        "      summary_word_count.append(len(i.split()))\n",
        "\n",
        "length_df = pd.DataFrame({'text':text_word_count, 'summary':summary_word_count})\n",
        "length_df.hist(bins = 30)\n",
        "plt.show()"
      ]
    },
    {
      "cell_type": "markdown",
      "id": "47fadee2",
      "metadata": {
        "id": "47fadee2"
      },
      "source": [
        "We can fix the maximum length of the reviews to 80 since that seems to be the majority review length. Similarly, we can set the maximum summary length to 10:"
      ]
    },
    {
      "cell_type": "code",
      "execution_count": 13,
      "id": "a85c8cfe",
      "metadata": {
        "id": "a85c8cfe"
      },
      "outputs": [],
      "source": [
        "max_len_text=100\n",
        "max_len_summary=50"
      ]
    },
    {
      "cell_type": "markdown",
      "id": "fa880e57",
      "metadata": {
        "id": "fa880e57"
      },
      "source": [
        "we need to split our dataset into a training and validation set. We’ll use 90% of the dataset as the training data and evaluate the performance on the remaining 10% (holdout set):"
      ]
    },
    {
      "cell_type": "code",
      "execution_count": 14,
      "id": "c5df539b",
      "metadata": {
        "id": "c5df539b"
      },
      "outputs": [],
      "source": [
        "from sklearn.model_selection import train_test_split\n",
        "x_tr,x_val,y_tr,y_val=train_test_split(data['cleaned_text'],data['cleaned_summary'],test_size=0.1,random_state=0,shuffle=True)\n"
      ]
    },
    {
      "cell_type": "markdown",
      "id": "74dd2a4a",
      "metadata": {
        "id": "74dd2a4a"
      },
      "source": [
        "Preparing the Tokenizer\n",
        "\n",
        "A tokenizer builds the vocabulary and converts a word sequence to an integer sequence. Go ahead and build tokenizers for text and summary:\n",
        "\n",
        "a) Text Tokenizer"
      ]
    },
    {
      "cell_type": "code",
      "execution_count": 15,
      "id": "c4a7d8e1",
      "metadata": {
        "id": "c4a7d8e1"
      },
      "outputs": [],
      "source": [
        "#prepare a tokenizer for reviews on training data\n",
        "x_tokenizer = Tokenizer()\n",
        "x_tokenizer.fit_on_texts(list(x_tr))\n",
        "\n",
        "#convert text sequences into integer sequences\n",
        "x_tr    =   x_tokenizer.texts_to_sequences(x_tr)\n",
        "x_val   =   x_tokenizer.texts_to_sequences(x_val)\n",
        "\n",
        "#padding zero upto maximum length\n",
        "x_tr    =   pad_sequences(x_tr,  maxlen=max_len_text, padding='post')\n",
        "x_val   =   pad_sequences(x_val, maxlen=max_len_text, padding='post')\n",
        "\n",
        "x_voc_size   =  len(x_tokenizer.word_index) +1"
      ]
    },
    {
      "cell_type": "markdown",
      "id": "43ef4448",
      "metadata": {
        "id": "43ef4448"
      },
      "source": [
        "b) Summary Tokenizer"
      ]
    },
    {
      "cell_type": "code",
      "execution_count": 16,
      "id": "3f06d464",
      "metadata": {
        "id": "3f06d464"
      },
      "outputs": [],
      "source": [
        "#preparing a tokenizer for summary on training data\n",
        "y_tokenizer = Tokenizer()\n",
        "y_tokenizer.fit_on_texts(list(y_tr))\n",
        "\n",
        "#convert summary sequences into integer sequences\n",
        "y_tr    =   y_tokenizer.texts_to_sequences(y_tr)\n",
        "y_val   =   y_tokenizer.texts_to_sequences(y_val)\n",
        "\n",
        "#padding zero upto maximum length\n",
        "y_tr    =   pad_sequences(y_tr, maxlen=max_len_summary, padding='post')\n",
        "y_val   =   pad_sequences(y_val, maxlen=max_len_summary, padding='post')\n",
        "\n",
        "y_voc_size  =   len(y_tokenizer.word_index) +1"
      ]
    },
    {
      "cell_type": "code",
      "execution_count": 17,
      "id": "ad1a19e9",
      "metadata": {
        "colab": {
          "base_uri": "https://localhost:8080/"
        },
        "id": "ad1a19e9",
        "outputId": "d910163e-7490-4539-88f6-2a04a126896f"
      },
      "outputs": [
        {
          "output_type": "stream",
          "name": "stdout",
          "text": [
            "Requirement already satisfied: sentencepiece in /usr/local/lib/python3.10/dist-packages (0.1.99)\n"
          ]
        }
      ],
      "source": [
        "pip install sentencepiece"
      ]
    },
    {
      "cell_type": "code",
      "source": [
        "pip install transformers\n"
      ],
      "metadata": {
        "colab": {
          "base_uri": "https://localhost:8080/"
        },
        "id": "Tab5UL4UYsFB",
        "outputId": "2b47f108-431f-4a8d-cbb9-1e8f40ed29e7"
      },
      "id": "Tab5UL4UYsFB",
      "execution_count": 18,
      "outputs": [
        {
          "output_type": "stream",
          "name": "stdout",
          "text": [
            "Requirement already satisfied: transformers in /usr/local/lib/python3.10/dist-packages (4.31.0)\n",
            "Requirement already satisfied: filelock in /usr/local/lib/python3.10/dist-packages (from transformers) (3.12.2)\n",
            "Requirement already satisfied: huggingface-hub<1.0,>=0.14.1 in /usr/local/lib/python3.10/dist-packages (from transformers) (0.16.4)\n",
            "Requirement already satisfied: numpy>=1.17 in /usr/local/lib/python3.10/dist-packages (from transformers) (1.25.2)\n",
            "Requirement already satisfied: packaging>=20.0 in /usr/local/lib/python3.10/dist-packages (from transformers) (23.1)\n",
            "Requirement already satisfied: pyyaml>=5.1 in /usr/local/lib/python3.10/dist-packages (from transformers) (6.0.1)\n",
            "Requirement already satisfied: regex!=2019.12.17 in /usr/local/lib/python3.10/dist-packages (from transformers) (2023.6.3)\n",
            "Requirement already satisfied: requests in /usr/local/lib/python3.10/dist-packages (from transformers) (2.31.0)\n",
            "Requirement already satisfied: tokenizers!=0.11.3,<0.14,>=0.11.1 in /usr/local/lib/python3.10/dist-packages (from transformers) (0.13.3)\n",
            "Requirement already satisfied: safetensors>=0.3.1 in /usr/local/lib/python3.10/dist-packages (from transformers) (0.3.2)\n",
            "Requirement already satisfied: tqdm>=4.27 in /usr/local/lib/python3.10/dist-packages (from transformers) (4.66.0)\n",
            "Requirement already satisfied: fsspec in /usr/local/lib/python3.10/dist-packages (from huggingface-hub<1.0,>=0.14.1->transformers) (2023.6.0)\n",
            "Requirement already satisfied: typing-extensions>=3.7.4.3 in /usr/local/lib/python3.10/dist-packages (from huggingface-hub<1.0,>=0.14.1->transformers) (4.7.1)\n",
            "Requirement already satisfied: charset-normalizer<4,>=2 in /usr/local/lib/python3.10/dist-packages (from requests->transformers) (3.2.0)\n",
            "Requirement already satisfied: idna<4,>=2.5 in /usr/local/lib/python3.10/dist-packages (from requests->transformers) (3.4)\n",
            "Requirement already satisfied: urllib3<3,>=1.21.1 in /usr/local/lib/python3.10/dist-packages (from requests->transformers) (2.0.4)\n",
            "Requirement already satisfied: certifi>=2017.4.17 in /usr/local/lib/python3.10/dist-packages (from requests->transformers) (2023.7.22)\n"
          ]
        }
      ]
    },
    {
      "cell_type": "code",
      "source": [
        "import torch\n",
        "import torch.optim as optim\n",
        "from torch.utils.data import DataLoader, TensorDataset\n",
        "from transformers import T5Tokenizer, T5ForConditionalGeneration\n",
        "\n",
        "# Load pre-trained T5 model and tokenizer\n",
        "model_name = 't5-small'\n",
        "model = T5ForConditionalGeneration.from_pretrained(model_name)\n",
        "tokenizer = T5Tokenizer.from_pretrained(model_name)\n",
        "# Convert cleaned_text and cleaned_summary into appropriate format for T5\n",
        "input_texts = ['summarize: ' + text for text in data['cleaned_text']]\n",
        "target_texts = data['cleaned_summary']\n",
        "\n",
        "# Tokenize the input and target sequences using the tokenizer object\n",
        "input_encodings = tokenizer.batch_encode_plus(input_texts, padding=True, truncation=True, return_tensors='pt')\n",
        "target_encodings = tokenizer.batch_encode_plus(target_texts, padding=True, truncation=True, return_tensors='pt')\n",
        "\n",
        "# Extract input_ids and attention_mask from encodings\n",
        "input_ids = input_encodings['input_ids']\n",
        "input_attention_mask = input_encodings['attention_mask']\n",
        "target_ids = target_encodings['input_ids']\n",
        "target_attention_mask = target_encodings['attention_mask']"
      ],
      "metadata": {
        "colab": {
          "base_uri": "https://localhost:8080/"
        },
        "id": "BDlq97sGiRY5",
        "outputId": "b1be7337-c5ba-43ba-ead8-1b16c77bb67d"
      },
      "id": "BDlq97sGiRY5",
      "execution_count": 19,
      "outputs": [
        {
          "output_type": "stream",
          "name": "stderr",
          "text": [
            "You are using the legacy behaviour of the <class 'transformers.models.t5.tokenization_t5.T5Tokenizer'>. This means that tokens that come after special tokens will not be properly handled. We recommend you to read the related pull request available at https://github.com/huggingface/transformers/pull/24565\n"
          ]
        }
      ]
    },
    {
      "cell_type": "code",
      "source": [
        "# Create a DataLoader for batching\n",
        "batch_size = 32\n",
        "train_data = TensorDataset(input_ids, input_attention_mask, target_ids, target_attention_mask)\n",
        "train_loader = DataLoader(train_data, batch_size=batch_size, shuffle=True)\n",
        "# Define optimizer and loss function\n",
        "optimizer = optim.Adam(model.parameters(), lr=0.001)\n",
        "criterion = torch.nn.CrossEntropyLoss()\n",
        "\n"
      ],
      "metadata": {
        "id": "V2m3XRtjmaMr"
      },
      "id": "V2m3XRtjmaMr",
      "execution_count": 20,
      "outputs": []
    },
    {
      "cell_type": "code",
      "source": [
        "# Training loop\n",
        "num_epochs = 5\n",
        "for epoch in range(num_epochs):\n",
        "    model.train()\n",
        "    total_loss = 0\n",
        "\n",
        "    for batch_input_ids, batch_input_attention_mask, batch_target_ids, batch_target_attention_mask in train_loader:\n",
        "      optimizer.zero_grad()\n",
        "\n",
        "\n",
        "    # Forward pass\n",
        "    outputs = model(input_ids=batch_input_ids, attention_mask=batch_input_attention_mask, labels=batch_target_ids)\n",
        "    loss = outputs.loss\n",
        "\n",
        "    # Backpropagation and optimization\n",
        "    loss.backward()\n",
        "    optimizer.step()\n",
        "\n",
        "    total_loss += loss.item()\n",
        "\n",
        "avg_loss = total_loss / len(train_loader)\n",
        "print(f\"Epoch [{epoch+1}/{num_epochs}] - Avg Loss: {avg_loss:.4f}\")\n",
        "\n",
        "\n",
        "\n",
        "\n"
      ],
      "metadata": {
        "id": "XHT-TYmGmlGP",
        "colab": {
          "base_uri": "https://localhost:8080/"
        },
        "outputId": "8e2472d1-c32e-4f16-c796-94cf732ef451"
      },
      "id": "XHT-TYmGmlGP",
      "execution_count": 21,
      "outputs": [
        {
          "output_type": "stream",
          "name": "stdout",
          "text": [
            "Epoch [5/5] - Avg Loss: 0.0272\n"
          ]
        }
      ]
    },
    {
      "cell_type": "code",
      "source": [
        "# Generate summaries using the trained model\n",
        "def generate_summary(text):\n",
        "    input_seq = 'summarize: ' + text\n",
        "    input_id = tokenizer.encode(input_seq, return_tensors='pt', max_length=max_len_text, truncation=True)\n",
        "    summary_ids = model.generate(input_id, max_length=max_len_summary, num_beams=4, length_penalty=2.0, early_stopping=True)\n",
        "    summary = tokenizer.decode(summary_ids[0], skip_special_tokens=True)\n",
        "    return summary\n"
      ],
      "metadata": {
        "id": "ZfPdXYtZmz9D"
      },
      "id": "ZfPdXYtZmz9D",
      "execution_count": 22,
      "outputs": []
    },
    {
      "cell_type": "code",
      "source": [
        "# # Example usage\n",
        "# for i in range(5):\n",
        "#     original_text = data['cleaned_text'][i]\n",
        "#     generated_summary = generate_summary(original_text)\n",
        "#     # print(\"Original Text:\", original_text)\n",
        "#     # print(\"Generated Summary:\", generated_summary)\n",
        "#     # print(\"\\n\")"
      ],
      "metadata": {
        "id": "xQX961uim0BY"
      },
      "execution_count": 23,
      "outputs": [],
      "id": "xQX961uim0BY"
    },
    {
      "cell_type": "code",
      "source": [
        "\n",
        "original_text = \"A birthday is the anniversary of the birth of a person. It's a special day that celebrates the individual's life and the passage of another year. People often mark their birthdays with various traditions and celebrations, which can include parties, gatherings with friends and family, giving and receiving gifts, and enjoying special meals or treats.\"\n",
        "generated_summary = generate_summary(original_text)\n",
        "print(\"Original Text:\", original_text)\n",
        "print(\"Generated Summary:\", generated_summary)\n",
        "print(\"\\n\")"
      ],
      "metadata": {
        "colab": {
          "base_uri": "https://localhost:8080/"
        },
        "id": "rRVrgnIO6m7q",
        "outputId": "d53c4b8e-66ed-459d-f454-189b9eadac22"
      },
      "id": "rRVrgnIO6m7q",
      "execution_count": 25,
      "outputs": [
        {
          "output_type": "stream",
          "name": "stdout",
          "text": [
            "Original Text: A birthday is the anniversary of the birth of a person. It's a special day that celebrates the individual's life and the passage of another year. People often mark their birthdays with various traditions and celebrations, which can include parties, gatherings with friends and family, giving and receiving gifts, and enjoying special meals or treats.\n",
            "Generated Summary: a birthday is the anniversary of the birth of a person.\n",
            "\n",
            "\n"
          ]
        }
      ]
    },
    {
      "cell_type": "code",
      "source": [
        "pip install rouge-score\n"
      ],
      "metadata": {
        "colab": {
          "base_uri": "https://localhost:8080/"
        },
        "id": "s3n6Ctpe2xQf",
        "outputId": "ea2c309c-1afa-4349-adaf-d18e14ff1ab7"
      },
      "id": "s3n6Ctpe2xQf",
      "execution_count": 26,
      "outputs": [
        {
          "output_type": "stream",
          "name": "stdout",
          "text": [
            "Requirement already satisfied: rouge-score in /usr/local/lib/python3.10/dist-packages (0.1.2)\n",
            "Requirement already satisfied: absl-py in /usr/local/lib/python3.10/dist-packages (from rouge-score) (1.4.0)\n",
            "Requirement already satisfied: nltk in /usr/local/lib/python3.10/dist-packages (from rouge-score) (3.8.1)\n",
            "Requirement already satisfied: numpy in /usr/local/lib/python3.10/dist-packages (from rouge-score) (1.25.2)\n",
            "Requirement already satisfied: six>=1.14.0 in /usr/local/lib/python3.10/dist-packages (from rouge-score) (1.16.0)\n",
            "Requirement already satisfied: click in /usr/local/lib/python3.10/dist-packages (from nltk->rouge-score) (8.1.6)\n",
            "Requirement already satisfied: joblib in /usr/local/lib/python3.10/dist-packages (from nltk->rouge-score) (1.3.2)\n",
            "Requirement already satisfied: regex>=2021.8.3 in /usr/local/lib/python3.10/dist-packages (from nltk->rouge-score) (2023.6.3)\n",
            "Requirement already satisfied: tqdm in /usr/local/lib/python3.10/dist-packages (from nltk->rouge-score) (4.66.0)\n"
          ]
        }
      ]
    },
    {
      "cell_type": "code",
      "source": [
        "from nltk.translate.bleu_score import sentence_bleu\n",
        "from nltk.translate.bleu_score import SmoothingFunction\n",
        "from rouge_score import rouge_scorer\n",
        "\n",
        "# Example reference summaries for evaluation\n",
        "reference_summaries = [\n",
        "    \"good quality dog food\",\n",
        "    \"small-sized unsalted peanuts\",\n",
        "    \"delicious citrus gelatin treat\",\n",
        "    \"root beer extract for soda\",\n",
        "    \"wide assortment of yummy taffy\"\n",
        "]\n",
        "\n",
        "generated_summaries = [\n",
        "    \"canned dog food products found good quality product looks\",\n",
        "    \"product labeled jumbo salted\",\n",
        "    \"robitussin believe found a\",\n",
        "    \"great taffy delivery quick t\",\n",
        "    \"yummy treat familiar story lewis lion witch wardrobe\"\n",
        "]\n",
        "\n",
        "# Compute BLEU score (same as before)\n",
        "def compute_bleu(reference, candidate):\n",
        "    reference = [reference.split()]\n",
        "    candidate = candidate.split()\n",
        "    smoothie = SmoothingFunction().method1\n",
        "    bleu_score = sentence_bleu(reference, candidate, smoothing_function=smoothie)\n",
        "    return bleu_score\n",
        "\n",
        "# Compute ROUGE scores using rouge-score library\n",
        "def compute_rouge(reference, candidate):\n",
        "    scorer = rouge_scorer.RougeScorer(['rouge1', 'rouge2', 'rougeL'], use_stemmer=True)\n",
        "    scores = scorer.score(reference, candidate)\n",
        "    return scores\n",
        "\n",
        "# Compute BLEU and ROUGE scores for all generated summaries\n",
        "for i in range(len(reference_summaries)):\n",
        "    ref_summary = reference_summaries[i]\n",
        "    gen_summary = generated_summaries[i]\n",
        "\n",
        "    bleu_score = compute_bleu(ref_summary, gen_summary)\n",
        "    rouge_scores = compute_rouge(ref_summary, gen_summary)\n",
        "\n",
        "    print(f\"Reference Summary: {ref_summary}\")\n",
        "    print(f\"Generated Summary: {gen_summary}\")\n",
        "    print(f\"BLEU Score: {bleu_score:.4f}\")\n",
        "    print(f\"ROUGE-1: {rouge_scores['rouge1'].precision:.4f}, {rouge_scores['rouge1'].recall:.4f}, {rouge_scores['rouge1'].fmeasure:.4f}\")\n",
        "    print(f\"ROUGE-2: {rouge_scores['rouge2'].precision:.4f}, {rouge_scores['rouge2'].recall:.4f}, {rouge_scores['rouge2'].fmeasure:.4f}\")\n",
        "    print(f\"ROUGE-L: {rouge_scores['rougeL'].precision:.4f}, {rouge_scores['rougeL'].recall:.4f}, {rouge_scores['rougeL'].fmeasure:.4f}\")\n",
        "    print(\"\\n\")\n"
      ],
      "metadata": {
        "id": "K8ifPv9MqtjM",
        "colab": {
          "base_uri": "https://localhost:8080/"
        },
        "outputId": "e53daf30-3731-4ff2-a514-d4e81507619f"
      },
      "id": "K8ifPv9MqtjM",
      "execution_count": 27,
      "outputs": [
        {
          "output_type": "stream",
          "name": "stdout",
          "text": [
            "Reference Summary: good quality dog food\n",
            "Generated Summary: canned dog food products found good quality product looks\n",
            "BLEU Score: 0.0717\n",
            "ROUGE-1: 0.4444, 1.0000, 0.6154\n",
            "ROUGE-2: 0.2500, 0.6667, 0.3636\n",
            "ROUGE-L: 0.2222, 0.5000, 0.3077\n",
            "\n",
            "\n",
            "Reference Summary: small-sized unsalted peanuts\n",
            "Generated Summary: product labeled jumbo salted\n",
            "BLEU Score: 0.0000\n",
            "ROUGE-1: 0.0000, 0.0000, 0.0000\n",
            "ROUGE-2: 0.0000, 0.0000, 0.0000\n",
            "ROUGE-L: 0.0000, 0.0000, 0.0000\n",
            "\n",
            "\n",
            "Reference Summary: delicious citrus gelatin treat\n",
            "Generated Summary: robitussin believe found a\n",
            "BLEU Score: 0.0000\n",
            "ROUGE-1: 0.0000, 0.0000, 0.0000\n",
            "ROUGE-2: 0.0000, 0.0000, 0.0000\n",
            "ROUGE-L: 0.0000, 0.0000, 0.0000\n",
            "\n",
            "\n",
            "Reference Summary: root beer extract for soda\n",
            "Generated Summary: great taffy delivery quick t\n",
            "BLEU Score: 0.0000\n",
            "ROUGE-1: 0.0000, 0.0000, 0.0000\n",
            "ROUGE-2: 0.0000, 0.0000, 0.0000\n",
            "ROUGE-L: 0.0000, 0.0000, 0.0000\n",
            "\n",
            "\n",
            "Reference Summary: wide assortment of yummy taffy\n",
            "Generated Summary: yummy treat familiar story lewis lion witch wardrobe\n",
            "BLEU Score: 0.0278\n",
            "ROUGE-1: 0.1250, 0.2000, 0.1538\n",
            "ROUGE-2: 0.0000, 0.0000, 0.0000\n",
            "ROUGE-L: 0.1250, 0.2000, 0.1538\n",
            "\n",
            "\n"
          ]
        }
      ]
    },
    {
      "cell_type": "code",
      "source": [
        "import matplotlib.pyplot as plt\n",
        "import numpy as np\n",
        "\n",
        "# ... (previous code)\n",
        "\n",
        "# Lists to store scores for plotting\n",
        "bleu_scores_list = []\n",
        "rouge1_f1_scores_list = []\n",
        "rouge2_f1_scores_list = []\n",
        "rougeL_f1_scores_list = []\n",
        "\n",
        "# Compute scores and populate the lists\n",
        "for i in range(len(reference_summaries)):\n",
        "    ref_summary = reference_summaries[i]\n",
        "    gen_summary = generated_summaries[i]\n",
        "\n",
        "    bleu_score = compute_bleu(ref_summary, gen_summary)\n",
        "    rouge_scores = compute_rouge(ref_summary, gen_summary)\n",
        "\n",
        "    bleu_scores_list.append(bleu_score)\n",
        "    rouge1_f1_scores_list.append(rouge_scores['rouge1'].fmeasure)\n",
        "    rouge2_f1_scores_list.append(rouge_scores['rouge2'].fmeasure)\n",
        "    rougeL_f1_scores_list.append(rouge_scores['rougeL'].fmeasure)\n",
        "\n",
        "# Summary indices\n",
        "summary_indices = np.arange(len(reference_summaries))\n",
        "\n",
        "# Bar width\n",
        "bar_width = 0.2\n",
        "\n",
        "# Create subplots\n",
        "fig, ax = plt.subplots(figsize=(10, 6))\n",
        "\n",
        "# Plot the scores\n",
        "ax.bar(summary_indices, bleu_scores_list, bar_width, label='BLEU')\n",
        "ax.bar(summary_indices + bar_width, rouge1_f1_scores_list, bar_width, label='ROUGE-1')\n",
        "ax.bar(summary_indices + 2 * bar_width, rouge2_f1_scores_list, bar_width, label='ROUGE-2')\n",
        "ax.bar(summary_indices + 3 * bar_width, rougeL_f1_scores_list, bar_width, label='ROUGE-L')\n",
        "\n",
        "ax.set_xlabel('Summary Index')\n",
        "ax.set_ylabel('Score')\n",
        "ax.set_title('Summary Evaluation Metrics')\n",
        "ax.set_xticks(summary_indices + 1.5 * bar_width)\n",
        "ax.set_xticklabels(summary_indices + 1)  # 1-indexed summary index\n",
        "ax.legend()\n",
        "\n",
        "plt.tight_layout()\n",
        "plt.show()\n"
      ],
      "metadata": {
        "colab": {
          "base_uri": "https://localhost:8080/",
          "height": 607
        },
        "id": "lOQcfOGA2oxr",
        "outputId": "7962dc36-e990-4068-eb80-242b35b64d2d"
      },
      "id": "lOQcfOGA2oxr",
      "execution_count": 29,
      "outputs": [
        {
          "output_type": "display_data",
          "data": {
            "text/plain": [
              "<Figure size 1000x600 with 1 Axes>"
            ],
            "image/png": "[encoded data removed]"
          },
          "metadata": {}
        }
      ]
    },
    {
      "cell_type": "code",
      "source": [],
      "metadata": {
        "id": "-FQu3FiQ80mF"
      },
      "id": "-FQu3FiQ80mF",
      "execution_count": null,
      "outputs": []
    }
  ],
  "metadata": {
    "kernelspec": {
      "display_name": "Python 3",
      "name": "python3"
    },
    "language_info": {
      "codemirror_mode": {
        "name": "ipython",
        "version": 3
      },
      "file_extension": ".py",
      "mimetype": "text/x-python",
      "name": "python",
      "nbconvert_exporter": "python",
      "pygments_lexer": "ipython3",
      "version": "3.11.3"
    },
    "colab": {
      "provenance": []
    },
    "accelerator": "TPU"
  },
  "nbformat": 4,
  "nbformat_minor": 5
}